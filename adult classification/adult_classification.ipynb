{
 "cells": [
  {
   "cell_type": "code",
   "execution_count": 1,
   "metadata": {
    "ExecuteTime": {
     "end_time": "2021-03-02T21:12:10.049198Z",
     "start_time": "2021-03-02T21:12:07.700763Z"
    }
   },
   "outputs": [],
   "source": [
    "%matplotlib inline\n",
    "import numpy as np\n",
    "import pandas as pd\n",
    "import seaborn as sns\n",
    "import matplotlib.pyplot as plt\n",
    "import category_encoders as ce\n",
    "from scipy.stats import pointbiserialr, spearmanr\n",
    "from sklearn.metrics import accuracy_score, roc_auc_score\n",
    "from sklearn.model_selection import GridSearchCV, train_test_split, StratifiedKFold\n",
    "from sklearn.linear_model import LogisticRegression\n",
    "from sklearn.ensemble import RandomForestClassifier\n",
    "from sklearn.tree import DecisionTreeClassifier\n",
    "from sklearn.naive_bayes import GaussianNB\n",
    "from sklearn.preprocessing import StandardScaler, RobustScaler\n",
    "from catboost import CatBoostClassifier"
   ]
  },
  {
   "cell_type": "code",
   "execution_count": 2,
   "metadata": {
    "ExecuteTime": {
     "end_time": "2021-03-02T21:12:10.184937Z",
     "start_time": "2021-03-02T21:12:10.052151Z"
    }
   },
   "outputs": [
    {
     "data": {
      "text/html": [
       "<div>\n",
       "<style scoped>\n",
       "    .dataframe tbody tr th:only-of-type {\n",
       "        vertical-align: middle;\n",
       "    }\n",
       "\n",
       "    .dataframe tbody tr th {\n",
       "        vertical-align: top;\n",
       "    }\n",
       "\n",
       "    .dataframe thead th {\n",
       "        text-align: right;\n",
       "    }\n",
       "</style>\n",
       "<table border=\"1\" class=\"dataframe\">\n",
       "  <thead>\n",
       "    <tr style=\"text-align: right;\">\n",
       "      <th></th>\n",
       "      <th>age</th>\n",
       "      <th>workclass</th>\n",
       "      <th>fnlwgt</th>\n",
       "      <th>education</th>\n",
       "      <th>education.num</th>\n",
       "      <th>marital.status</th>\n",
       "      <th>occupation</th>\n",
       "      <th>relationship</th>\n",
       "      <th>race</th>\n",
       "      <th>sex</th>\n",
       "      <th>capital.gain</th>\n",
       "      <th>capital.loss</th>\n",
       "      <th>hours.per.week</th>\n",
       "      <th>native.country</th>\n",
       "      <th>income</th>\n",
       "    </tr>\n",
       "  </thead>\n",
       "  <tbody>\n",
       "    <tr>\n",
       "      <th>0</th>\n",
       "      <td>90</td>\n",
       "      <td>?</td>\n",
       "      <td>77053</td>\n",
       "      <td>HS-grad</td>\n",
       "      <td>9</td>\n",
       "      <td>Widowed</td>\n",
       "      <td>?</td>\n",
       "      <td>Not-in-family</td>\n",
       "      <td>White</td>\n",
       "      <td>Female</td>\n",
       "      <td>0</td>\n",
       "      <td>4356</td>\n",
       "      <td>40</td>\n",
       "      <td>United-States</td>\n",
       "      <td>&lt;=50K</td>\n",
       "    </tr>\n",
       "    <tr>\n",
       "      <th>1</th>\n",
       "      <td>82</td>\n",
       "      <td>Private</td>\n",
       "      <td>132870</td>\n",
       "      <td>HS-grad</td>\n",
       "      <td>9</td>\n",
       "      <td>Widowed</td>\n",
       "      <td>Exec-managerial</td>\n",
       "      <td>Not-in-family</td>\n",
       "      <td>White</td>\n",
       "      <td>Female</td>\n",
       "      <td>0</td>\n",
       "      <td>4356</td>\n",
       "      <td>18</td>\n",
       "      <td>United-States</td>\n",
       "      <td>&lt;=50K</td>\n",
       "    </tr>\n",
       "    <tr>\n",
       "      <th>2</th>\n",
       "      <td>66</td>\n",
       "      <td>?</td>\n",
       "      <td>186061</td>\n",
       "      <td>Some-college</td>\n",
       "      <td>10</td>\n",
       "      <td>Widowed</td>\n",
       "      <td>?</td>\n",
       "      <td>Unmarried</td>\n",
       "      <td>Black</td>\n",
       "      <td>Female</td>\n",
       "      <td>0</td>\n",
       "      <td>4356</td>\n",
       "      <td>40</td>\n",
       "      <td>United-States</td>\n",
       "      <td>&lt;=50K</td>\n",
       "    </tr>\n",
       "    <tr>\n",
       "      <th>3</th>\n",
       "      <td>54</td>\n",
       "      <td>Private</td>\n",
       "      <td>140359</td>\n",
       "      <td>7th-8th</td>\n",
       "      <td>4</td>\n",
       "      <td>Divorced</td>\n",
       "      <td>Machine-op-inspct</td>\n",
       "      <td>Unmarried</td>\n",
       "      <td>White</td>\n",
       "      <td>Female</td>\n",
       "      <td>0</td>\n",
       "      <td>3900</td>\n",
       "      <td>40</td>\n",
       "      <td>United-States</td>\n",
       "      <td>&lt;=50K</td>\n",
       "    </tr>\n",
       "    <tr>\n",
       "      <th>4</th>\n",
       "      <td>41</td>\n",
       "      <td>Private</td>\n",
       "      <td>264663</td>\n",
       "      <td>Some-college</td>\n",
       "      <td>10</td>\n",
       "      <td>Separated</td>\n",
       "      <td>Prof-specialty</td>\n",
       "      <td>Own-child</td>\n",
       "      <td>White</td>\n",
       "      <td>Female</td>\n",
       "      <td>0</td>\n",
       "      <td>3900</td>\n",
       "      <td>40</td>\n",
       "      <td>United-States</td>\n",
       "      <td>&lt;=50K</td>\n",
       "    </tr>\n",
       "  </tbody>\n",
       "</table>\n",
       "</div>"
      ],
      "text/plain": [
       "   age workclass  fnlwgt     education  education.num marital.status  \\\n",
       "0   90         ?   77053       HS-grad              9        Widowed   \n",
       "1   82   Private  132870       HS-grad              9        Widowed   \n",
       "2   66         ?  186061  Some-college             10        Widowed   \n",
       "3   54   Private  140359       7th-8th              4       Divorced   \n",
       "4   41   Private  264663  Some-college             10      Separated   \n",
       "\n",
       "          occupation   relationship   race     sex  capital.gain  \\\n",
       "0                  ?  Not-in-family  White  Female             0   \n",
       "1    Exec-managerial  Not-in-family  White  Female             0   \n",
       "2                  ?      Unmarried  Black  Female             0   \n",
       "3  Machine-op-inspct      Unmarried  White  Female             0   \n",
       "4     Prof-specialty      Own-child  White  Female             0   \n",
       "\n",
       "   capital.loss  hours.per.week native.country income  \n",
       "0          4356              40  United-States  <=50K  \n",
       "1          4356              18  United-States  <=50K  \n",
       "2          4356              40  United-States  <=50K  \n",
       "3          3900              40  United-States  <=50K  \n",
       "4          3900              40  United-States  <=50K  "
      ]
     },
     "execution_count": 2,
     "metadata": {},
     "output_type": "execute_result"
    }
   ],
   "source": [
    "data = pd.read_csv('data/adult.csv')\n",
    "data.head()"
   ]
  },
  {
   "cell_type": "markdown",
   "metadata": {},
   "source": [
    "#### Построим гистограмму значений для каждой непрерывной функции"
   ]
  },
  {
   "cell_type": "code",
   "execution_count": 3,
   "metadata": {
    "ExecuteTime": {
     "end_time": "2021-03-02T21:12:13.544007Z",
     "start_time": "2021-03-02T21:12:10.187935Z"
    }
   },
   "outputs": [
    {
     "name": "stderr",
     "output_type": "stream",
     "text": [
      "C:\\ProgramData\\Anaconda3\\lib\\site-packages\\ipykernel_launcher.py:5: MatplotlibDeprecationWarning: Passing non-integers as three-element position specification is deprecated since 3.3 and will be removed two minor releases later.\n",
      "  \"\"\"\n",
      "C:\\ProgramData\\Anaconda3\\lib\\site-packages\\ipykernel_launcher.py:5: MatplotlibDeprecationWarning: Passing non-integers as three-element position specification is deprecated since 3.3 and will be removed two minor releases later.\n",
      "  \"\"\"\n",
      "C:\\ProgramData\\Anaconda3\\lib\\site-packages\\ipykernel_launcher.py:5: MatplotlibDeprecationWarning: Passing non-integers as three-element position specification is deprecated since 3.3 and will be removed two minor releases later.\n",
      "  \"\"\"\n",
      "C:\\ProgramData\\Anaconda3\\lib\\site-packages\\ipykernel_launcher.py:5: MatplotlibDeprecationWarning: Passing non-integers as three-element position specification is deprecated since 3.3 and will be removed two minor releases later.\n",
      "  \"\"\"\n",
      "C:\\ProgramData\\Anaconda3\\lib\\site-packages\\ipykernel_launcher.py:5: MatplotlibDeprecationWarning: Passing non-integers as three-element position specification is deprecated since 3.3 and will be removed two minor releases later.\n",
      "  \"\"\"\n",
      "C:\\ProgramData\\Anaconda3\\lib\\site-packages\\ipykernel_launcher.py:5: MatplotlibDeprecationWarning: Passing non-integers as three-element position specification is deprecated since 3.3 and will be removed two minor releases later.\n",
      "  \"\"\"\n",
      "C:\\ProgramData\\Anaconda3\\lib\\site-packages\\ipykernel_launcher.py:5: MatplotlibDeprecationWarning: Passing non-integers as three-element position specification is deprecated since 3.3 and will be removed two minor releases later.\n",
      "  \"\"\"\n",
      "C:\\ProgramData\\Anaconda3\\lib\\site-packages\\ipykernel_launcher.py:5: MatplotlibDeprecationWarning: Passing non-integers as three-element position specification is deprecated since 3.3 and will be removed two minor releases later.\n",
      "  \"\"\"\n",
      "C:\\ProgramData\\Anaconda3\\lib\\site-packages\\ipykernel_launcher.py:5: MatplotlibDeprecationWarning: Passing non-integers as three-element position specification is deprecated since 3.3 and will be removed two minor releases later.\n",
      "  \"\"\"\n"
     ]
    },
    {
     "data": {
      "image/png": "[encoded data removed]",
      "text/plain": [
       "<Figure size 1440x1080 with 15 Axes>"
      ]
     },
     "metadata": {
      "needs_background": "light"
     },
     "output_type": "display_data"
    }
   ],
   "source": [
    "fig = plt.figure(figsize=(20,15))\n",
    "cols = 5\n",
    "rows = float(data.shape[1]) / cols\n",
    "for i, column in enumerate(data.columns):\n",
    "    ax = fig.add_subplot(rows, cols, i + 1)\n",
    "    ax.set_title(column)\n",
    "    if data.dtypes[column] == 'object':\n",
    "        data[column].value_counts().plot(kind=\"bar\", axes=ax)\n",
    "    else:\n",
    "        data[column].hist(axes=ax)\n",
    "        plt.xticks(rotation=\"vertical\")\n",
    "plt.subplots_adjust(hspace=0.7, wspace=0.2)"
   ]
  },
  {
   "cell_type": "code",
   "execution_count": 4,
   "metadata": {
    "ExecuteTime": {
     "end_time": "2021-03-02T21:12:13.576988Z",
     "start_time": "2021-03-02T21:12:13.547006Z"
    }
   },
   "outputs": [
    {
     "name": "stdout",
     "output_type": "stream",
     "text": [
      "Individuals making at most $50.000: 24720\n",
      "Individuals making more than $50.000: 7841\n"
     ]
    }
   ],
   "source": [
    "first_class = data[data['income'] == '<=50K'].shape[0]\n",
    "second_class = data[data['income'] == '>50K'].shape[0]\n",
    "\n",
    "print(f'Individuals making at most $50.000: {first_class}')\n",
    "print(f'Individuals making more than $50.000: {second_class}')"
   ]
  },
  {
   "cell_type": "markdown",
   "metadata": {},
   "source": [
    "#### Посмотрим на кол-во уникальных значений в признаках"
   ]
  },
  {
   "cell_type": "code",
   "execution_count": 5,
   "metadata": {
    "ExecuteTime": {
     "end_time": "2021-03-02T21:12:13.635954Z",
     "start_time": "2021-03-02T21:12:13.579986Z"
    }
   },
   "outputs": [
    {
     "data": {
      "text/plain": [
       "{'age': 73,\n",
       " 'workclass': 9,\n",
       " 'fnlwgt': 21648,\n",
       " 'education': 16,\n",
       " 'education.num': 16,\n",
       " 'marital.status': 7,\n",
       " 'occupation': 15,\n",
       " 'relationship': 6,\n",
       " 'race': 5,\n",
       " 'sex': 2,\n",
       " 'capital.gain': 119,\n",
       " 'capital.loss': 92,\n",
       " 'hours.per.week': 94,\n",
       " 'native.country': 42,\n",
       " 'income': 2}"
      ]
     },
     "execution_count": 5,
     "metadata": {},
     "output_type": "execute_result"
    }
   ],
   "source": [
    "d = {}\n",
    "for c in data.columns:\n",
    "    d[c] = data[c].nunique()\n",
    "    \n",
    "d"
   ]
  },
  {
   "cell_type": "code",
   "execution_count": 6,
   "metadata": {
    "ExecuteTime": {
     "end_time": "2021-03-02T21:12:13.685925Z",
     "start_time": "2021-03-02T21:12:13.638952Z"
    }
   },
   "outputs": [
    {
     "name": "stdout",
     "output_type": "stream",
     "text": [
      "Признак workclass\n",
      "Кол-во пропущенных значений в признаке 1836\n",
      "Кол-во пропущенных значений в процентах 5.64%\n",
      "Признак occupation\n",
      "Кол-во пропущенных значений в признаке 1843\n",
      "Кол-во пропущенных значений в процентах 5.66%\n",
      "Признак native.country\n",
      "Кол-во пропущенных значений в признаке 583\n",
      "Кол-во пропущенных значений в процентах 1.79%\n"
     ]
    }
   ],
   "source": [
    "for c in data.columns:\n",
    "    count_non = data[c].isin(['?']).sum()\n",
    "    if count_non > 0:\n",
    "        print(f'Признак {c}')\n",
    "        print(f'Кол-во пропущенных значений в признаке {count_non}')\n",
    "        print(f'Кол-во пропущенных значений в процентах {(float(count_non) / data.shape[0] * 100):.2f}%')"
   ]
  },
  {
   "cell_type": "code",
   "execution_count": 7,
   "metadata": {
    "ExecuteTime": {
     "end_time": "2021-03-02T21:12:13.700917Z",
     "start_time": "2021-03-02T21:12:13.694921Z"
    }
   },
   "outputs": [],
   "source": [
    "# Можно использовать RobustScaler для всего датасета, т.к. он устойчив к выбросам\n",
    "def preprocess_numerical(data: pd.DataFrame) -> pd.DataFrame:\n",
    "    \"\"\"\n",
    "    Функция для предобработки численных признаков.\n",
    "    \n",
    "    Args:\n",
    "        data: Датафрейм.\n",
    "    \"\"\"\n",
    "    \n",
    "    numerical = ['age', 'education.num', 'capital.gain', 'capital.loss', 'hours.per.week']\n",
    "    \n",
    "    scaler = StandardScaler() #RobustScaler()\n",
    "    data[numerical] = scaler.fit_transform(data[numerical])\n",
    "    \n",
    "    return data"
   ]
  },
  {
   "cell_type": "code",
   "execution_count": 8,
   "metadata": {
    "ExecuteTime": {
     "end_time": "2021-03-02T21:12:13.717907Z",
     "start_time": "2021-03-02T21:12:13.704914Z"
    }
   },
   "outputs": [],
   "source": [
    "def preprocess_сategories(data: pd.DataFrame) -> pd.DataFrame:\n",
    "    \"\"\"\n",
    "    Функция для предобработки категориальных признаков.\n",
    "    \n",
    "    Args:\n",
    "        data: Датафрейм.\n",
    "    \"\"\"\n",
    "    \n",
    "    data = data[data['workclass'] != '?']\n",
    "    data = data[data['occupation'] != '?']\n",
    "    data = data[data['native.country'] != '?']\n",
    "    \n",
    "    ohe_list = ['sex', 'race']\n",
    "    dummy_list = ['workclass', 'education', 'marital.status', 'occupation', 'relationship', 'native.country']\n",
    "\n",
    "    ohe = ce.OneHotEncoder(cols=ohe_list)\n",
    "    oe = ce.OrdinalEncoder()\n",
    "\n",
    "    data = pd.get_dummies(data, columns=dummy_list)\n",
    "    data['income'] = oe.fit_transform(data['income'])\n",
    "    data = ohe.fit_transform(data)\n",
    "\n",
    "    return data"
   ]
  },
  {
   "cell_type": "code",
   "execution_count": 9,
   "metadata": {
    "ExecuteTime": {
     "end_time": "2021-03-02T21:12:14.213621Z",
     "start_time": "2021-03-02T21:12:13.720905Z"
    }
   },
   "outputs": [
    {
     "name": "stderr",
     "output_type": "stream",
     "text": [
      "C:\\ProgramData\\Anaconda3\\lib\\site-packages\\category_encoders\\utils.py:21: FutureWarning: is_categorical is deprecated and will be removed in a future version.  Use is_categorical_dtype instead\n",
      "  elif pd.api.types.is_categorical(cols):\n"
     ]
    }
   ],
   "source": [
    "data = preprocess_numerical(data)\n",
    "data = preprocess_сategories(data)"
   ]
  },
  {
   "cell_type": "code",
   "execution_count": 10,
   "metadata": {
    "ExecuteTime": {
     "end_time": "2021-03-02T21:12:14.269590Z",
     "start_time": "2021-03-02T21:12:14.217632Z"
    }
   },
   "outputs": [
    {
     "data": {
      "text/html": [
       "<div>\n",
       "<style scoped>\n",
       "    .dataframe tbody tr th:only-of-type {\n",
       "        vertical-align: middle;\n",
       "    }\n",
       "\n",
       "    .dataframe tbody tr th {\n",
       "        vertical-align: top;\n",
       "    }\n",
       "\n",
       "    .dataframe thead th {\n",
       "        text-align: right;\n",
       "    }\n",
       "</style>\n",
       "<table border=\"1\" class=\"dataframe\">\n",
       "  <thead>\n",
       "    <tr style=\"text-align: right;\">\n",
       "      <th></th>\n",
       "      <th>age</th>\n",
       "      <th>fnlwgt</th>\n",
       "      <th>education.num</th>\n",
       "      <th>race_1</th>\n",
       "      <th>race_2</th>\n",
       "      <th>race_3</th>\n",
       "      <th>race_4</th>\n",
       "      <th>race_5</th>\n",
       "      <th>sex_1</th>\n",
       "      <th>sex_2</th>\n",
       "      <th>...</th>\n",
       "      <th>native.country_Portugal</th>\n",
       "      <th>native.country_Puerto-Rico</th>\n",
       "      <th>native.country_Scotland</th>\n",
       "      <th>native.country_South</th>\n",
       "      <th>native.country_Taiwan</th>\n",
       "      <th>native.country_Thailand</th>\n",
       "      <th>native.country_Trinadad&amp;Tobago</th>\n",
       "      <th>native.country_United-States</th>\n",
       "      <th>native.country_Vietnam</th>\n",
       "      <th>native.country_Yugoslavia</th>\n",
       "    </tr>\n",
       "  </thead>\n",
       "  <tbody>\n",
       "    <tr>\n",
       "      <th>1</th>\n",
       "      <td>3.183112</td>\n",
       "      <td>132870</td>\n",
       "      <td>-0.420060</td>\n",
       "      <td>1</td>\n",
       "      <td>0</td>\n",
       "      <td>0</td>\n",
       "      <td>0</td>\n",
       "      <td>0</td>\n",
       "      <td>1</td>\n",
       "      <td>0</td>\n",
       "      <td>...</td>\n",
       "      <td>0</td>\n",
       "      <td>0</td>\n",
       "      <td>0</td>\n",
       "      <td>0</td>\n",
       "      <td>0</td>\n",
       "      <td>0</td>\n",
       "      <td>0</td>\n",
       "      <td>1</td>\n",
       "      <td>0</td>\n",
       "      <td>0</td>\n",
       "    </tr>\n",
       "    <tr>\n",
       "      <th>3</th>\n",
       "      <td>1.130359</td>\n",
       "      <td>140359</td>\n",
       "      <td>-2.363558</td>\n",
       "      <td>1</td>\n",
       "      <td>0</td>\n",
       "      <td>0</td>\n",
       "      <td>0</td>\n",
       "      <td>0</td>\n",
       "      <td>1</td>\n",
       "      <td>0</td>\n",
       "      <td>...</td>\n",
       "      <td>0</td>\n",
       "      <td>0</td>\n",
       "      <td>0</td>\n",
       "      <td>0</td>\n",
       "      <td>0</td>\n",
       "      <td>0</td>\n",
       "      <td>0</td>\n",
       "      <td>1</td>\n",
       "      <td>0</td>\n",
       "      <td>0</td>\n",
       "    </tr>\n",
       "    <tr>\n",
       "      <th>4</th>\n",
       "      <td>0.177296</td>\n",
       "      <td>264663</td>\n",
       "      <td>-0.031360</td>\n",
       "      <td>1</td>\n",
       "      <td>0</td>\n",
       "      <td>0</td>\n",
       "      <td>0</td>\n",
       "      <td>0</td>\n",
       "      <td>1</td>\n",
       "      <td>0</td>\n",
       "      <td>...</td>\n",
       "      <td>0</td>\n",
       "      <td>0</td>\n",
       "      <td>0</td>\n",
       "      <td>0</td>\n",
       "      <td>0</td>\n",
       "      <td>0</td>\n",
       "      <td>0</td>\n",
       "      <td>1</td>\n",
       "      <td>0</td>\n",
       "      <td>0</td>\n",
       "    </tr>\n",
       "    <tr>\n",
       "      <th>5</th>\n",
       "      <td>-0.335892</td>\n",
       "      <td>216864</td>\n",
       "      <td>-0.420060</td>\n",
       "      <td>1</td>\n",
       "      <td>0</td>\n",
       "      <td>0</td>\n",
       "      <td>0</td>\n",
       "      <td>0</td>\n",
       "      <td>1</td>\n",
       "      <td>0</td>\n",
       "      <td>...</td>\n",
       "      <td>0</td>\n",
       "      <td>0</td>\n",
       "      <td>0</td>\n",
       "      <td>0</td>\n",
       "      <td>0</td>\n",
       "      <td>0</td>\n",
       "      <td>0</td>\n",
       "      <td>1</td>\n",
       "      <td>0</td>\n",
       "      <td>0</td>\n",
       "    </tr>\n",
       "    <tr>\n",
       "      <th>6</th>\n",
       "      <td>-0.042642</td>\n",
       "      <td>150601</td>\n",
       "      <td>-1.586158</td>\n",
       "      <td>1</td>\n",
       "      <td>0</td>\n",
       "      <td>0</td>\n",
       "      <td>0</td>\n",
       "      <td>0</td>\n",
       "      <td>0</td>\n",
       "      <td>1</td>\n",
       "      <td>...</td>\n",
       "      <td>0</td>\n",
       "      <td>0</td>\n",
       "      <td>0</td>\n",
       "      <td>0</td>\n",
       "      <td>0</td>\n",
       "      <td>0</td>\n",
       "      <td>0</td>\n",
       "      <td>1</td>\n",
       "      <td>0</td>\n",
       "      <td>0</td>\n",
       "    </tr>\n",
       "  </tbody>\n",
       "</table>\n",
       "<p>5 rows × 105 columns</p>\n",
       "</div>"
      ],
      "text/plain": [
       "        age  fnlwgt  education.num  race_1  race_2  race_3  race_4  race_5  \\\n",
       "1  3.183112  132870      -0.420060       1       0       0       0       0   \n",
       "3  1.130359  140359      -2.363558       1       0       0       0       0   \n",
       "4  0.177296  264663      -0.031360       1       0       0       0       0   \n",
       "5 -0.335892  216864      -0.420060       1       0       0       0       0   \n",
       "6 -0.042642  150601      -1.586158       1       0       0       0       0   \n",
       "\n",
       "   sex_1  sex_2  ...  native.country_Portugal  native.country_Puerto-Rico  \\\n",
       "1      1      0  ...                        0                           0   \n",
       "3      1      0  ...                        0                           0   \n",
       "4      1      0  ...                        0                           0   \n",
       "5      1      0  ...                        0                           0   \n",
       "6      0      1  ...                        0                           0   \n",
       "\n",
       "   native.country_Scotland  native.country_South  native.country_Taiwan  \\\n",
       "1                        0                     0                      0   \n",
       "3                        0                     0                      0   \n",
       "4                        0                     0                      0   \n",
       "5                        0                     0                      0   \n",
       "6                        0                     0                      0   \n",
       "\n",
       "   native.country_Thailand  native.country_Trinadad&Tobago  \\\n",
       "1                        0                               0   \n",
       "3                        0                               0   \n",
       "4                        0                               0   \n",
       "5                        0                               0   \n",
       "6                        0                               0   \n",
       "\n",
       "   native.country_United-States  native.country_Vietnam  \\\n",
       "1                             1                       0   \n",
       "3                             1                       0   \n",
       "4                             1                       0   \n",
       "5                             1                       0   \n",
       "6                             1                       0   \n",
       "\n",
       "   native.country_Yugoslavia  \n",
       "1                          0  \n",
       "3                          0  \n",
       "4                          0  \n",
       "5                          0  \n",
       "6                          0  \n",
       "\n",
       "[5 rows x 105 columns]"
      ]
     },
     "execution_count": 10,
     "metadata": {},
     "output_type": "execute_result"
    }
   ],
   "source": [
    "data.head()"
   ]
  },
  {
   "cell_type": "code",
   "execution_count": 11,
   "metadata": {
    "ExecuteTime": {
     "end_time": "2021-03-02T21:12:16.835117Z",
     "start_time": "2021-03-02T21:12:14.274594Z"
    }
   },
   "outputs": [
    {
     "data": {
      "image/png": "[encoded data removed]",
      "text/plain": [
       "<Figure size 1440x360 with 5 Axes>"
      ]
     },
     "metadata": {
      "needs_background": "light"
     },
     "output_type": "display_data"
    }
   ],
   "source": [
    "disp_feats = data.dtypes[data.dtypes == 'float64'].index.to_list()\n",
    "fig, axes = plt.subplots(1, 5, figsize=(20, 5))\n",
    "for i in range(len(disp_feats)):\n",
    "    sns.histplot(data[disp_feats[i]], ax=axes[i], kde_kws={'bw':0.1})"
   ]
  },
  {
   "cell_type": "markdown",
   "metadata": {},
   "source": [
    "#### Создаю датафрейм с корреляцией между признаками и таргетом"
   ]
  },
  {
   "cell_type": "code",
   "execution_count": 12,
   "metadata": {
    "ExecuteTime": {
     "end_time": "2021-03-02T21:12:17.611670Z",
     "start_time": "2021-03-02T21:12:16.839114Z"
    }
   },
   "outputs": [
    {
     "data": {
      "text/html": [
       "<div>\n",
       "<style scoped>\n",
       "    .dataframe tbody tr th:only-of-type {\n",
       "        vertical-align: middle;\n",
       "    }\n",
       "\n",
       "    .dataframe tbody tr th {\n",
       "        vertical-align: top;\n",
       "    }\n",
       "\n",
       "    .dataframe thead th {\n",
       "        text-align: right;\n",
       "    }\n",
       "</style>\n",
       "<table border=\"1\" class=\"dataframe\">\n",
       "  <thead>\n",
       "    <tr style=\"text-align: right;\">\n",
       "      <th></th>\n",
       "      <th>correlation</th>\n",
       "      <th>abs_corr</th>\n",
       "    </tr>\n",
       "    <tr>\n",
       "      <th>parameters</th>\n",
       "      <th></th>\n",
       "      <th></th>\n",
       "    </tr>\n",
       "  </thead>\n",
       "  <tbody>\n",
       "    <tr>\n",
       "      <th>marital.status_Married-civ-spouse</th>\n",
       "      <td>0.445418</td>\n",
       "      <td>0.445418</td>\n",
       "    </tr>\n",
       "    <tr>\n",
       "      <th>relationship_Husband</th>\n",
       "      <td>0.401236</td>\n",
       "      <td>0.401236</td>\n",
       "    </tr>\n",
       "    <tr>\n",
       "      <th>education.num</th>\n",
       "      <td>0.335286</td>\n",
       "      <td>0.335286</td>\n",
       "    </tr>\n",
       "    <tr>\n",
       "      <th>marital.status_Never-married</th>\n",
       "      <td>-0.320053</td>\n",
       "      <td>0.320053</td>\n",
       "    </tr>\n",
       "    <tr>\n",
       "      <th>age</th>\n",
       "      <td>0.241998</td>\n",
       "      <td>0.241998</td>\n",
       "    </tr>\n",
       "    <tr>\n",
       "      <th>...</th>\n",
       "      <td>...</td>\n",
       "      <td>...</td>\n",
       "    </tr>\n",
       "    <tr>\n",
       "      <th>native.country_Cuba</th>\n",
       "      <td>0.002919</td>\n",
       "      <td>0.002919</td>\n",
       "    </tr>\n",
       "    <tr>\n",
       "      <th>native.country_Ireland</th>\n",
       "      <td>-0.002649</td>\n",
       "      <td>0.002649</td>\n",
       "    </tr>\n",
       "    <tr>\n",
       "      <th>education_Assoc-acdm</th>\n",
       "      <td>0.002170</td>\n",
       "      <td>0.002170</td>\n",
       "    </tr>\n",
       "    <tr>\n",
       "      <th>native.country_Greece</th>\n",
       "      <td>0.001933</td>\n",
       "      <td>0.001933</td>\n",
       "    </tr>\n",
       "    <tr>\n",
       "      <th>native.country_Hungary</th>\n",
       "      <td>-0.000872</td>\n",
       "      <td>0.000872</td>\n",
       "    </tr>\n",
       "  </tbody>\n",
       "</table>\n",
       "<p>104 rows × 2 columns</p>\n",
       "</div>"
      ],
      "text/plain": [
       "                                   correlation  abs_corr\n",
       "parameters                                              \n",
       "marital.status_Married-civ-spouse     0.445418  0.445418\n",
       "relationship_Husband                  0.401236  0.401236\n",
       "education.num                         0.335286  0.335286\n",
       "marital.status_Never-married         -0.320053  0.320053\n",
       "age                                   0.241998  0.241998\n",
       "...                                        ...       ...\n",
       "native.country_Cuba                   0.002919  0.002919\n",
       "native.country_Ireland               -0.002649  0.002649\n",
       "education_Assoc-acdm                  0.002170  0.002170\n",
       "native.country_Greece                 0.001933  0.001933\n",
       "native.country_Hungary               -0.000872  0.000872\n",
       "\n",
       "[104 rows x 2 columns]"
      ]
     },
     "execution_count": 12,
     "metadata": {},
     "output_type": "execute_result"
    }
   ],
   "source": [
    "params = []\n",
    "correlation = []\n",
    "abs_corr = []\n",
    "for c in data.columns:\n",
    "    if c != 'income':\n",
    "        if data[c].nunique() <= 2:\n",
    "            corr = spearmanr(data['income'], data[c])[0]\n",
    "        else:\n",
    "            corr = pointbiserialr(data['income'], data[c])[0]\n",
    "        params.append(c)\n",
    "        correlation.append(corr)\n",
    "        abs_corr.append(abs(corr))\n",
    "        \n",
    "params_df = pd.DataFrame({\n",
    "    'correlation': correlation,\n",
    "    'parameters': params,\n",
    "    'abs_corr': abs_corr\n",
    "})\n",
    "params_df = params_df.sort_values(by=['abs_corr'], ascending=False).set_index('parameters')\n",
    "params_df"
   ]
  },
  {
   "cell_type": "markdown",
   "metadata": {},
   "source": [
    "#### Отбрасываю признаки, которые слабо коррелируют с таргетом"
   ]
  },
  {
   "cell_type": "code",
   "execution_count": 13,
   "metadata": {
    "ExecuteTime": {
     "end_time": "2021-03-02T21:12:17.676633Z",
     "start_time": "2021-03-02T21:12:17.614668Z"
    }
   },
   "outputs": [
    {
     "name": "stdout",
     "output_type": "stream",
     "text": [
      "(30162, 105)\n",
      "(30162, 25)\n"
     ]
    },
    {
     "data": {
      "text/html": [
       "<div>\n",
       "<style scoped>\n",
       "    .dataframe tbody tr th:only-of-type {\n",
       "        vertical-align: middle;\n",
       "    }\n",
       "\n",
       "    .dataframe tbody tr th {\n",
       "        vertical-align: top;\n",
       "    }\n",
       "\n",
       "    .dataframe thead th {\n",
       "        text-align: right;\n",
       "    }\n",
       "</style>\n",
       "<table border=\"1\" class=\"dataframe\">\n",
       "  <thead>\n",
       "    <tr style=\"text-align: right;\">\n",
       "      <th></th>\n",
       "      <th>marital.status_Married-civ-spouse</th>\n",
       "      <th>relationship_Husband</th>\n",
       "      <th>education.num</th>\n",
       "      <th>marital.status_Never-married</th>\n",
       "      <th>age</th>\n",
       "      <th>hours.per.week</th>\n",
       "      <th>relationship_Own-child</th>\n",
       "      <th>capital.gain</th>\n",
       "      <th>sex_1</th>\n",
       "      <th>sex_2</th>\n",
       "      <th>...</th>\n",
       "      <th>occupation_Other-service</th>\n",
       "      <th>education_Prof-school</th>\n",
       "      <th>capital.loss</th>\n",
       "      <th>relationship_Unmarried</th>\n",
       "      <th>workclass_Self-emp-inc</th>\n",
       "      <th>education_HS-grad</th>\n",
       "      <th>marital.status_Divorced</th>\n",
       "      <th>education_Doctorate</th>\n",
       "      <th>relationship_Wife</th>\n",
       "      <th>workclass_Private</th>\n",
       "    </tr>\n",
       "  </thead>\n",
       "  <tbody>\n",
       "    <tr>\n",
       "      <th>1</th>\n",
       "      <td>0</td>\n",
       "      <td>0</td>\n",
       "      <td>-0.420060</td>\n",
       "      <td>0</td>\n",
       "      <td>3.183112</td>\n",
       "      <td>-1.817204</td>\n",
       "      <td>0</td>\n",
       "      <td>-0.14592</td>\n",
       "      <td>1</td>\n",
       "      <td>0</td>\n",
       "      <td>...</td>\n",
       "      <td>0</td>\n",
       "      <td>0</td>\n",
       "      <td>10.593507</td>\n",
       "      <td>0</td>\n",
       "      <td>0</td>\n",
       "      <td>1</td>\n",
       "      <td>0</td>\n",
       "      <td>0</td>\n",
       "      <td>0</td>\n",
       "      <td>1</td>\n",
       "    </tr>\n",
       "    <tr>\n",
       "      <th>3</th>\n",
       "      <td>0</td>\n",
       "      <td>0</td>\n",
       "      <td>-2.363558</td>\n",
       "      <td>0</td>\n",
       "      <td>1.130359</td>\n",
       "      <td>-0.035429</td>\n",
       "      <td>0</td>\n",
       "      <td>-0.14592</td>\n",
       "      <td>1</td>\n",
       "      <td>0</td>\n",
       "      <td>...</td>\n",
       "      <td>0</td>\n",
       "      <td>0</td>\n",
       "      <td>9.461864</td>\n",
       "      <td>1</td>\n",
       "      <td>0</td>\n",
       "      <td>0</td>\n",
       "      <td>1</td>\n",
       "      <td>0</td>\n",
       "      <td>0</td>\n",
       "      <td>1</td>\n",
       "    </tr>\n",
       "    <tr>\n",
       "      <th>4</th>\n",
       "      <td>0</td>\n",
       "      <td>0</td>\n",
       "      <td>-0.031360</td>\n",
       "      <td>0</td>\n",
       "      <td>0.177296</td>\n",
       "      <td>-0.035429</td>\n",
       "      <td>1</td>\n",
       "      <td>-0.14592</td>\n",
       "      <td>1</td>\n",
       "      <td>0</td>\n",
       "      <td>...</td>\n",
       "      <td>0</td>\n",
       "      <td>0</td>\n",
       "      <td>9.461864</td>\n",
       "      <td>0</td>\n",
       "      <td>0</td>\n",
       "      <td>0</td>\n",
       "      <td>0</td>\n",
       "      <td>0</td>\n",
       "      <td>0</td>\n",
       "      <td>1</td>\n",
       "    </tr>\n",
       "    <tr>\n",
       "      <th>5</th>\n",
       "      <td>0</td>\n",
       "      <td>0</td>\n",
       "      <td>-0.420060</td>\n",
       "      <td>0</td>\n",
       "      <td>-0.335892</td>\n",
       "      <td>0.369519</td>\n",
       "      <td>0</td>\n",
       "      <td>-0.14592</td>\n",
       "      <td>1</td>\n",
       "      <td>0</td>\n",
       "      <td>...</td>\n",
       "      <td>1</td>\n",
       "      <td>0</td>\n",
       "      <td>9.139246</td>\n",
       "      <td>1</td>\n",
       "      <td>0</td>\n",
       "      <td>1</td>\n",
       "      <td>1</td>\n",
       "      <td>0</td>\n",
       "      <td>0</td>\n",
       "      <td>1</td>\n",
       "    </tr>\n",
       "    <tr>\n",
       "      <th>6</th>\n",
       "      <td>0</td>\n",
       "      <td>0</td>\n",
       "      <td>-1.586158</td>\n",
       "      <td>0</td>\n",
       "      <td>-0.042642</td>\n",
       "      <td>-0.035429</td>\n",
       "      <td>0</td>\n",
       "      <td>-0.14592</td>\n",
       "      <td>0</td>\n",
       "      <td>1</td>\n",
       "      <td>...</td>\n",
       "      <td>0</td>\n",
       "      <td>0</td>\n",
       "      <td>9.139246</td>\n",
       "      <td>1</td>\n",
       "      <td>0</td>\n",
       "      <td>0</td>\n",
       "      <td>0</td>\n",
       "      <td>0</td>\n",
       "      <td>0</td>\n",
       "      <td>1</td>\n",
       "    </tr>\n",
       "  </tbody>\n",
       "</table>\n",
       "<p>5 rows × 25 columns</p>\n",
       "</div>"
      ],
      "text/plain": [
       "   marital.status_Married-civ-spouse  relationship_Husband  education.num  \\\n",
       "1                                  0                     0      -0.420060   \n",
       "3                                  0                     0      -2.363558   \n",
       "4                                  0                     0      -0.031360   \n",
       "5                                  0                     0      -0.420060   \n",
       "6                                  0                     0      -1.586158   \n",
       "\n",
       "   marital.status_Never-married       age  hours.per.week  \\\n",
       "1                             0  3.183112       -1.817204   \n",
       "3                             0  1.130359       -0.035429   \n",
       "4                             0  0.177296       -0.035429   \n",
       "5                             0 -0.335892        0.369519   \n",
       "6                             0 -0.042642       -0.035429   \n",
       "\n",
       "   relationship_Own-child  capital.gain  sex_1  sex_2  ...  \\\n",
       "1                       0      -0.14592      1      0  ...   \n",
       "3                       0      -0.14592      1      0  ...   \n",
       "4                       1      -0.14592      1      0  ...   \n",
       "5                       0      -0.14592      1      0  ...   \n",
       "6                       0      -0.14592      0      1  ...   \n",
       "\n",
       "   occupation_Other-service  education_Prof-school  capital.loss  \\\n",
       "1                         0                      0     10.593507   \n",
       "3                         0                      0      9.461864   \n",
       "4                         0                      0      9.461864   \n",
       "5                         1                      0      9.139246   \n",
       "6                         0                      0      9.139246   \n",
       "\n",
       "   relationship_Unmarried  workclass_Self-emp-inc  education_HS-grad  \\\n",
       "1                       0                       0                  1   \n",
       "3                       1                       0                  0   \n",
       "4                       0                       0                  0   \n",
       "5                       1                       0                  1   \n",
       "6                       1                       0                  0   \n",
       "\n",
       "   marital.status_Divorced  education_Doctorate  relationship_Wife  \\\n",
       "1                        0                    0                  0   \n",
       "3                        1                    0                  0   \n",
       "4                        0                    0                  0   \n",
       "5                        1                    0                  0   \n",
       "6                        0                    0                  0   \n",
       "\n",
       "   workclass_Private  \n",
       "1                  1  \n",
       "3                  1  \n",
       "4                  1  \n",
       "5                  1  \n",
       "6                  1  \n",
       "\n",
       "[5 rows x 25 columns]"
      ]
     },
     "execution_count": 13,
     "metadata": {},
     "output_type": "execute_result"
    }
   ],
   "source": [
    "print(data.shape)\n",
    "\n",
    "feat_slice = params_df[params_df['abs_corr'] >= 0.1].index.to_list()\n",
    "\n",
    "print(data[feat_slice].shape)\n",
    "data[feat_slice].head()"
   ]
  },
  {
   "cell_type": "code",
   "execution_count": 14,
   "metadata": {
    "ExecuteTime": {
     "end_time": "2021-03-02T21:12:17.693623Z",
     "start_time": "2021-03-02T21:12:17.682629Z"
    }
   },
   "outputs": [],
   "source": [
    "# X = data.drop('income', axis=1)\n",
    "# y = data['income']\n",
    "\n",
    "X = data[feat_slice]\n",
    "y = data['income']"
   ]
  },
  {
   "cell_type": "code",
   "execution_count": 15,
   "metadata": {
    "ExecuteTime": {
     "end_time": "2021-03-02T21:12:17.732601Z",
     "start_time": "2021-03-02T21:12:17.697620Z"
    }
   },
   "outputs": [
    {
     "data": {
      "text/plain": [
       "((20208, 25), (9954, 25), (20208,), (9954,))"
      ]
     },
     "execution_count": 15,
     "metadata": {},
     "output_type": "execute_result"
    }
   ],
   "source": [
    "X_train, X_test, y_train, y_test = train_test_split(X, y, random_state=42, \n",
    "                                                    test_size=0.33, shuffle=True)\n",
    "X_train.shape, X_test.shape, y_train.shape, y_test.shape"
   ]
  },
  {
   "cell_type": "markdown",
   "metadata": {},
   "source": [
    "### RandomForestClassifier"
   ]
  },
  {
   "cell_type": "markdown",
   "metadata": {},
   "source": [
    "Провожу кроссвалидацию StratifiedKFold, разбивая на 5 фолдов, каждый раз перемешивая данные."
   ]
  },
  {
   "cell_type": "code",
   "execution_count": 16,
   "metadata": {
    "ExecuteTime": {
     "end_time": "2021-03-02T21:12:40.469551Z",
     "start_time": "2021-03-02T21:12:17.737598Z"
    }
   },
   "outputs": [
    {
     "name": "stdout",
     "output_type": "stream",
     "text": [
      "\n",
      "1 of fold 5\n",
      "accuracy_score = 0.8544246993358463\n",
      "roc_auc_score = 0.9137063182303583\n",
      "\n",
      "2 of fold 5\n",
      "accuracy_score = 0.8497777777777777\n",
      "roc_auc_score = 0.9133289427747782\n",
      "\n",
      "3 of fold 5\n",
      "accuracy_score = 0.8675920982381207\n",
      "roc_auc_score = 0.9181425431264157\n",
      "\n",
      "4 of fold 5\n",
      "accuracy_score = 0.8550179211469534\n",
      "roc_auc_score = 0.9118199050242779\n",
      "\n",
      "5 of fold 5\n",
      "accuracy_score = 0.8564498742364355\n",
      "roc_auc_score = 0.9121847472874509\n"
     ]
    }
   ],
   "source": [
    "rf_preds = []\n",
    "roc_auc = []\n",
    "i = 1\n",
    "skf = StratifiedKFold(n_splits=5, shuffle=True, random_state=42)\n",
    "skf.get_n_splits(X.index, y)\n",
    "\n",
    "for train_index, test_index in skf.split(X.index, y):\n",
    "    print(f'\\n{i} of fold {skf.n_splits}')\n",
    "    xtr, xvl = X[X.index.isin(train_index)], X[X.index.isin(test_index)]\n",
    "    ytr, yvl = y[y.index.isin(train_index)], y[y.index.isin(test_index)]\n",
    "\n",
    "    rf = RandomForestClassifier(n_estimators=500, max_depth=9,\n",
    "                                random_state=42, min_samples_leaf=5,\n",
    "                                n_jobs=-1)\n",
    "    rf.fit(xtr, ytr)\n",
    "    pred = rf.predict(xvl)\n",
    "    pred_proba = rf.predict_proba(xvl)[:, 1]\n",
    "    print(f'accuracy_score = {accuracy_score(yvl, pred)}')\n",
    "    print(f'roc_auc_score = {roc_auc_score(yvl, pred_proba)}')\n",
    "    rf_preds.append(accuracy_score(yvl, pred))\n",
    "    roc_auc.append(roc_auc_score(yvl, pred_proba))\n",
    "    i += 1"
   ]
  },
  {
   "cell_type": "markdown",
   "metadata": {},
   "source": [
    "Берем среднее значение из всех предсказаний."
   ]
  },
  {
   "cell_type": "code",
   "execution_count": 17,
   "metadata": {
    "ExecuteTime": {
     "end_time": "2021-03-02T21:12:40.479545Z",
     "start_time": "2021-03-02T21:12:40.471549Z"
    }
   },
   "outputs": [
    {
     "data": {
      "text/plain": [
       "0.8566524741470267"
      ]
     },
     "execution_count": 17,
     "metadata": {},
     "output_type": "execute_result"
    }
   ],
   "source": [
    "# accuracy score\n",
    "rf_score = np.array(rf_preds).mean(axis=0)\n",
    "rf_score"
   ]
  },
  {
   "cell_type": "code",
   "execution_count": 18,
   "metadata": {
    "ExecuteTime": {
     "end_time": "2021-03-02T21:12:40.492539Z",
     "start_time": "2021-03-02T21:12:40.482543Z"
    }
   },
   "outputs": [
    {
     "data": {
      "text/plain": [
       "0.9138364912886562"
      ]
     },
     "execution_count": 18,
     "metadata": {},
     "output_type": "execute_result"
    }
   ],
   "source": [
    "# roc_auc score\n",
    "roc_auc_rf_score = np.array(roc_auc).mean(axis=0)\n",
    "roc_auc_rf_score"
   ]
  },
  {
   "cell_type": "markdown",
   "metadata": {},
   "source": [
    "### Logistic Regression"
   ]
  },
  {
   "cell_type": "code",
   "execution_count": 19,
   "metadata": {
    "ExecuteTime": {
     "end_time": "2021-03-02T21:12:42.336480Z",
     "start_time": "2021-03-02T21:12:40.495536Z"
    }
   },
   "outputs": [
    {
     "name": "stdout",
     "output_type": "stream",
     "text": [
      "\n",
      "1 of fold 5\n",
      "accuracy_score = 0.8409621252916891\n",
      "roc_auc_score = 0.9016066840032987\n",
      "\n",
      "2 of fold 5\n",
      "accuracy_score = 0.8421333333333333\n",
      "roc_auc_score = 0.902231238423782\n",
      "\n",
      "3 of fold 5\n",
      "accuracy_score = 0.8522868837871508\n",
      "roc_auc_score = 0.9038859375732577\n",
      "\n",
      "4 of fold 5\n",
      "accuracy_score = 0.8406810035842294\n",
      "roc_auc_score = 0.8979913297141806\n",
      "\n",
      "5 of fold 5\n",
      "accuracy_score = 0.8424362199065757\n",
      "roc_auc_score = 0.9024101814034962\n"
     ]
    }
   ],
   "source": [
    "lr_preds = []\n",
    "roc_auc = []\n",
    "i = 1\n",
    "skf = StratifiedKFold(n_splits=5, shuffle=True, random_state=42)\n",
    "skf.get_n_splits(X.index, y)\n",
    "\n",
    "for train_index, test_index in skf.split(X.index, y):\n",
    "    print(f'\\n{i} of fold {skf.n_splits}')\n",
    "    xtr, xvl = X[X.index.isin(train_index)], X[X.index.isin(test_index)]\n",
    "    ytr, yvl = y[y.index.isin(train_index)], y[y.index.isin(test_index)]\n",
    "\n",
    "    lr = LogisticRegression(random_state=42, penalty='l1',\n",
    "                            solver='liblinear', C=0.05)\n",
    "    \n",
    "    lr.fit(xtr, ytr)\n",
    "    pred = lr.predict(xvl)\n",
    "    pred_proba = lr.predict_proba(xvl)[:, 1] \n",
    "    print(f'accuracy_score = {accuracy_score(yvl, pred)}')\n",
    "    print(f'roc_auc_score = {roc_auc_score(yvl, pred_proba)}')\n",
    "    lr_preds.append(accuracy_score(yvl, pred))\n",
    "    roc_auc.append(roc_auc_score(yvl, pred_proba))\n",
    "    i += 1"
   ]
  },
  {
   "cell_type": "code",
   "execution_count": 20,
   "metadata": {
    "ExecuteTime": {
     "end_time": "2021-03-02T21:12:42.347473Z",
     "start_time": "2021-03-02T21:12:42.339476Z"
    }
   },
   "outputs": [
    {
     "data": {
      "text/plain": [
       "0.8436999131805957"
      ]
     },
     "execution_count": 20,
     "metadata": {},
     "output_type": "execute_result"
    }
   ],
   "source": [
    "# accuracy score\n",
    "lr_score = np.array(lr_preds).mean(axis=0)\n",
    "lr_score"
   ]
  },
  {
   "cell_type": "code",
   "execution_count": 21,
   "metadata": {
    "ExecuteTime": {
     "end_time": "2021-03-02T21:12:42.362463Z",
     "start_time": "2021-03-02T21:12:42.350471Z"
    }
   },
   "outputs": [
    {
     "data": {
      "text/plain": [
       "0.901625074223603"
      ]
     },
     "execution_count": 21,
     "metadata": {},
     "output_type": "execute_result"
    }
   ],
   "source": [
    "# roc_auc score\n",
    "roc_auc_lr_score = np.array(roc_auc).mean(axis=0)\n",
    "roc_auc_lr_score"
   ]
  },
  {
   "cell_type": "markdown",
   "metadata": {},
   "source": [
    "### GaussianNaiveBayes"
   ]
  },
  {
   "cell_type": "code",
   "execution_count": 22,
   "metadata": {
    "ExecuteTime": {
     "end_time": "2021-03-02T21:12:42.693293Z",
     "start_time": "2021-03-02T21:12:42.369459Z"
    }
   },
   "outputs": [
    {
     "name": "stdout",
     "output_type": "stream",
     "text": [
      "\n",
      "1 of fold 5\n",
      "accuracy_score = 0.8255250403877221\n",
      "roc_auc_score = 0.8890242013293403\n",
      "\n",
      "2 of fold 5\n",
      "accuracy_score = 0.8282666666666667\n",
      "roc_auc_score = 0.8878066412490289\n",
      "\n",
      "3 of fold 5\n",
      "accuracy_score = 0.8229222281544759\n",
      "roc_auc_score = 0.8827409293957769\n",
      "\n",
      "4 of fold 5\n",
      "accuracy_score = 0.8204301075268817\n",
      "roc_auc_score = 0.8867649215700057\n",
      "\n",
      "5 of fold 5\n",
      "accuracy_score = 0.8219547251167805\n",
      "roc_auc_score = 0.8866907660949572\n"
     ]
    }
   ],
   "source": [
    "gnb_preds = []\n",
    "roc_auc = []\n",
    "i = 1\n",
    "skf = StratifiedKFold(n_splits=5, shuffle=True, random_state=42)\n",
    "skf.get_n_splits(X.index, y)\n",
    "\n",
    "for train_index, test_index in skf.split(X.index, y):\n",
    "    print(f'\\n{i} of fold {skf.n_splits}')\n",
    "    xtr, xvl = X[X.index.isin(train_index)], X[X.index.isin(test_index)]\n",
    "    ytr, yvl = y[y.index.isin(train_index)], y[y.index.isin(test_index)]\n",
    "    \n",
    "    gnb = GaussianNB()\n",
    "    gnb.fit(xtr, ytr)\n",
    "    pred = gnb.predict(xvl)\n",
    "    pred_proba = gnb.predict_proba(xvl)[:, 1]\n",
    "    print(f'accuracy_score = {accuracy_score(yvl, pred)}')\n",
    "    print(f'roc_auc_score = {roc_auc_score(yvl, pred_proba)}')\n",
    "    gnb_preds.append(accuracy_score(yvl, pred))\n",
    "    roc_auc.append(roc_auc_score(yvl, pred_proba))\n",
    "    i += 1"
   ]
  },
  {
   "cell_type": "code",
   "execution_count": 23,
   "metadata": {
    "ExecuteTime": {
     "end_time": "2021-03-02T21:12:42.703268Z",
     "start_time": "2021-03-02T21:12:42.695273Z"
    }
   },
   "outputs": [
    {
     "data": {
      "text/plain": [
       "0.8238197535705053"
      ]
     },
     "execution_count": 23,
     "metadata": {},
     "output_type": "execute_result"
    }
   ],
   "source": [
    "# accuracy score\n",
    "gnb_score = np.array(gnb_preds).mean(axis=0)\n",
    "gnb_score"
   ]
  },
  {
   "cell_type": "code",
   "execution_count": 24,
   "metadata": {
    "ExecuteTime": {
     "end_time": "2021-03-02T21:12:42.718259Z",
     "start_time": "2021-03-02T21:12:42.706266Z"
    }
   },
   "outputs": [
    {
     "data": {
      "text/plain": [
       "0.8866054919278218"
      ]
     },
     "execution_count": 24,
     "metadata": {},
     "output_type": "execute_result"
    }
   ],
   "source": [
    "# roc_auc score\n",
    "roc_auc_gnb_score = np.array(roc_auc).mean(axis=0)\n",
    "roc_auc_gnb_score"
   ]
  },
  {
   "cell_type": "markdown",
   "metadata": {},
   "source": [
    "### CatBoostClassifier"
   ]
  },
  {
   "cell_type": "code",
   "execution_count": 28,
   "metadata": {
    "ExecuteTime": {
     "end_time": "2021-03-02T21:17:06.974930Z",
     "start_time": "2021-03-02T21:15:43.639353Z"
    },
    "scrolled": true
   },
   "outputs": [
    {
     "name": "stdout",
     "output_type": "stream",
     "text": [
      "\n",
      "1 of fold 5\n",
      "Learning rate set to 0.108145\n",
      "0:\tlearn: 0.5911828\ttest: 0.5912841\tbest: 0.5912841 (0)\ttotal: 13.6ms\tremaining: 13.6s\n",
      "10:\tlearn: 0.3437388\ttest: 0.3449135\tbest: 0.3449135 (10)\ttotal: 163ms\tremaining: 14.7s\n",
      "20:\tlearn: 0.3150609\ttest: 0.3173936\tbest: 0.3173936 (20)\ttotal: 299ms\tremaining: 13.9s\n",
      "30:\tlearn: 0.3043962\ttest: 0.3086376\tbest: 0.3086376 (30)\ttotal: 456ms\tremaining: 14.3s\n",
      "40:\tlearn: 0.2982176\ttest: 0.3033915\tbest: 0.3033915 (40)\ttotal: 586ms\tremaining: 13.7s\n",
      "50:\tlearn: 0.2932511\ttest: 0.3001538\tbest: 0.3001538 (50)\ttotal: 733ms\tremaining: 13.6s\n",
      "60:\tlearn: 0.2900171\ttest: 0.2979323\tbest: 0.2979323 (60)\ttotal: 866ms\tremaining: 13.3s\n",
      "70:\tlearn: 0.2872657\ttest: 0.2962676\tbest: 0.2962676 (70)\ttotal: 1.02s\tremaining: 13.3s\n",
      "80:\tlearn: 0.2843290\ttest: 0.2941820\tbest: 0.2941820 (80)\ttotal: 1.15s\tremaining: 13.1s\n",
      "90:\tlearn: 0.2819268\ttest: 0.2933732\tbest: 0.2933732 (90)\ttotal: 1.3s\tremaining: 13s\n",
      "100:\tlearn: 0.2781597\ttest: 0.2902616\tbest: 0.2902616 (100)\ttotal: 1.44s\tremaining: 12.9s\n",
      "110:\tlearn: 0.2758586\ttest: 0.2894719\tbest: 0.2894719 (110)\ttotal: 1.59s\tremaining: 12.7s\n",
      "120:\tlearn: 0.2736135\ttest: 0.2882633\tbest: 0.2882633 (120)\ttotal: 1.72s\tremaining: 12.5s\n",
      "130:\tlearn: 0.2715000\ttest: 0.2873396\tbest: 0.2873396 (130)\ttotal: 1.87s\tremaining: 12.4s\n",
      "140:\tlearn: 0.2697914\ttest: 0.2870740\tbest: 0.2870258 (138)\ttotal: 2s\tremaining: 12.2s\n",
      "150:\tlearn: 0.2679729\ttest: 0.2862296\tbest: 0.2861273 (146)\ttotal: 2.14s\tremaining: 12.1s\n",
      "160:\tlearn: 0.2665567\ttest: 0.2861562\tbest: 0.2861273 (146)\ttotal: 2.28s\tremaining: 11.9s\n",
      "170:\tlearn: 0.2649882\ttest: 0.2858180\tbest: 0.2857781 (169)\ttotal: 2.44s\tremaining: 11.8s\n",
      "180:\tlearn: 0.2638486\ttest: 0.2859154\tbest: 0.2857781 (169)\ttotal: 2.57s\tremaining: 11.6s\n",
      "190:\tlearn: 0.2627399\ttest: 0.2855191\tbest: 0.2855191 (190)\ttotal: 2.73s\tremaining: 11.6s\n",
      "200:\tlearn: 0.2615816\ttest: 0.2855602\tbest: 0.2855041 (197)\ttotal: 2.86s\tremaining: 11.4s\n",
      "210:\tlearn: 0.2604373\ttest: 0.2856623\tbest: 0.2855041 (197)\ttotal: 3.02s\tremaining: 11.3s\n",
      "220:\tlearn: 0.2591818\ttest: 0.2857097\tbest: 0.2855041 (197)\ttotal: 3.16s\tremaining: 11.1s\n",
      "230:\tlearn: 0.2579918\ttest: 0.2855256\tbest: 0.2854841 (227)\ttotal: 3.31s\tremaining: 11s\n",
      "240:\tlearn: 0.2572845\ttest: 0.2855634\tbest: 0.2854799 (236)\ttotal: 3.46s\tremaining: 10.9s\n",
      "250:\tlearn: 0.2563655\ttest: 0.2855482\tbest: 0.2854090 (246)\ttotal: 3.61s\tremaining: 10.8s\n",
      "260:\tlearn: 0.2554323\ttest: 0.2855167\tbest: 0.2853484 (253)\ttotal: 3.74s\tremaining: 10.6s\n",
      "270:\tlearn: 0.2544259\ttest: 0.2855706\tbest: 0.2853484 (253)\ttotal: 3.9s\tremaining: 10.5s\n",
      "280:\tlearn: 0.2536357\ttest: 0.2855486\tbest: 0.2853484 (253)\ttotal: 4.23s\tremaining: 10.8s\n",
      "290:\tlearn: 0.2527772\ttest: 0.2852387\tbest: 0.2852387 (290)\ttotal: 4.39s\tremaining: 10.7s\n",
      "300:\tlearn: 0.2520636\ttest: 0.2854661\tbest: 0.2852387 (290)\ttotal: 4.55s\tremaining: 10.6s\n",
      "310:\tlearn: 0.2513250\ttest: 0.2855131\tbest: 0.2852387 (290)\ttotal: 4.68s\tremaining: 10.4s\n",
      "320:\tlearn: 0.2506998\ttest: 0.2854172\tbest: 0.2852387 (290)\ttotal: 4.83s\tremaining: 10.2s\n",
      "330:\tlearn: 0.2495802\ttest: 0.2855241\tbest: 0.2852387 (290)\ttotal: 4.96s\tremaining: 10s\n",
      "340:\tlearn: 0.2488070\ttest: 0.2857180\tbest: 0.2852387 (290)\ttotal: 5.12s\tremaining: 9.89s\n",
      "350:\tlearn: 0.2479301\ttest: 0.2857591\tbest: 0.2852387 (290)\ttotal: 5.26s\tremaining: 9.73s\n",
      "360:\tlearn: 0.2469520\ttest: 0.2857513\tbest: 0.2852387 (290)\ttotal: 5.4s\tremaining: 9.56s\n",
      "370:\tlearn: 0.2461283\ttest: 0.2856073\tbest: 0.2852387 (290)\ttotal: 5.54s\tremaining: 9.4s\n",
      "380:\tlearn: 0.2454965\ttest: 0.2851682\tbest: 0.2851682 (380)\ttotal: 5.69s\tremaining: 9.25s\n",
      "390:\tlearn: 0.2445860\ttest: 0.2850705\tbest: 0.2850705 (390)\ttotal: 5.82s\tremaining: 9.07s\n",
      "400:\tlearn: 0.2439389\ttest: 0.2854963\tbest: 0.2850413 (391)\ttotal: 5.97s\tremaining: 8.92s\n",
      "410:\tlearn: 0.2434162\ttest: 0.2854854\tbest: 0.2850413 (391)\ttotal: 6.13s\tremaining: 8.79s\n",
      "420:\tlearn: 0.2424469\ttest: 0.2855689\tbest: 0.2850413 (391)\ttotal: 6.28s\tremaining: 8.64s\n",
      "430:\tlearn: 0.2418984\ttest: 0.2856997\tbest: 0.2850413 (391)\ttotal: 6.45s\tremaining: 8.51s\n",
      "440:\tlearn: 0.2414260\ttest: 0.2857407\tbest: 0.2850413 (391)\ttotal: 6.59s\tremaining: 8.36s\n",
      "450:\tlearn: 0.2406540\ttest: 0.2858687\tbest: 0.2850413 (391)\ttotal: 6.73s\tremaining: 8.19s\n",
      "460:\tlearn: 0.2399782\ttest: 0.2858029\tbest: 0.2850413 (391)\ttotal: 6.87s\tremaining: 8.03s\n",
      "470:\tlearn: 0.2392418\ttest: 0.2861498\tbest: 0.2850413 (391)\ttotal: 7s\tremaining: 7.86s\n",
      "480:\tlearn: 0.2385835\ttest: 0.2861643\tbest: 0.2850413 (391)\ttotal: 7.15s\tremaining: 7.72s\n",
      "490:\tlearn: 0.2381113\ttest: 0.2863334\tbest: 0.2850413 (391)\ttotal: 7.3s\tremaining: 7.57s\n",
      "500:\tlearn: 0.2373578\ttest: 0.2864740\tbest: 0.2850413 (391)\ttotal: 7.46s\tremaining: 7.43s\n",
      "510:\tlearn: 0.2368210\ttest: 0.2867313\tbest: 0.2850413 (391)\ttotal: 7.6s\tremaining: 7.28s\n",
      "520:\tlearn: 0.2362317\ttest: 0.2867825\tbest: 0.2850413 (391)\ttotal: 7.76s\tremaining: 7.14s\n",
      "530:\tlearn: 0.2357129\ttest: 0.2868376\tbest: 0.2850413 (391)\ttotal: 7.9s\tremaining: 6.98s\n",
      "540:\tlearn: 0.2350217\ttest: 0.2870060\tbest: 0.2850413 (391)\ttotal: 8.07s\tremaining: 6.85s\n",
      "550:\tlearn: 0.2344420\ttest: 0.2871250\tbest: 0.2850413 (391)\ttotal: 8.22s\tremaining: 6.7s\n",
      "560:\tlearn: 0.2337667\ttest: 0.2871740\tbest: 0.2850413 (391)\ttotal: 8.37s\tremaining: 6.55s\n",
      "570:\tlearn: 0.2331153\ttest: 0.2871465\tbest: 0.2850413 (391)\ttotal: 8.51s\tremaining: 6.39s\n",
      "580:\tlearn: 0.2326888\ttest: 0.2871046\tbest: 0.2850413 (391)\ttotal: 8.65s\tremaining: 6.24s\n",
      "590:\tlearn: 0.2323185\ttest: 0.2870994\tbest: 0.2850413 (391)\ttotal: 8.78s\tremaining: 6.07s\n",
      "600:\tlearn: 0.2318066\ttest: 0.2872417\tbest: 0.2850413 (391)\ttotal: 8.93s\tremaining: 5.92s\n",
      "610:\tlearn: 0.2313653\ttest: 0.2873593\tbest: 0.2850413 (391)\ttotal: 9.06s\tremaining: 5.77s\n",
      "620:\tlearn: 0.2309523\ttest: 0.2875548\tbest: 0.2850413 (391)\ttotal: 9.21s\tremaining: 5.62s\n",
      "630:\tlearn: 0.2304332\ttest: 0.2876316\tbest: 0.2850413 (391)\ttotal: 9.34s\tremaining: 5.46s\n",
      "640:\tlearn: 0.2297733\ttest: 0.2882396\tbest: 0.2850413 (391)\ttotal: 9.49s\tremaining: 5.32s\n",
      "650:\tlearn: 0.2293815\ttest: 0.2883308\tbest: 0.2850413 (391)\ttotal: 9.62s\tremaining: 5.16s\n",
      "660:\tlearn: 0.2288156\ttest: 0.2883283\tbest: 0.2850413 (391)\ttotal: 9.77s\tremaining: 5.01s\n",
      "670:\tlearn: 0.2285330\ttest: 0.2884476\tbest: 0.2850413 (391)\ttotal: 9.9s\tremaining: 4.85s\n",
      "680:\tlearn: 0.2281006\ttest: 0.2884336\tbest: 0.2850413 (391)\ttotal: 10s\tremaining: 4.71s\n",
      "690:\tlearn: 0.2277601\ttest: 0.2884651\tbest: 0.2850413 (391)\ttotal: 10.2s\tremaining: 4.55s\n",
      "700:\tlearn: 0.2271774\ttest: 0.2884356\tbest: 0.2850413 (391)\ttotal: 10.3s\tremaining: 4.41s\n",
      "710:\tlearn: 0.2267146\ttest: 0.2886653\tbest: 0.2850413 (391)\ttotal: 10.5s\tremaining: 4.25s\n",
      "720:\tlearn: 0.2264520\ttest: 0.2887894\tbest: 0.2850413 (391)\ttotal: 10.6s\tremaining: 4.12s\n",
      "730:\tlearn: 0.2259801\ttest: 0.2887494\tbest: 0.2850413 (391)\ttotal: 10.8s\tremaining: 3.96s\n",
      "740:\tlearn: 0.2254570\ttest: 0.2891146\tbest: 0.2850413 (391)\ttotal: 10.9s\tremaining: 3.83s\n",
      "750:\tlearn: 0.2250464\ttest: 0.2893734\tbest: 0.2850413 (391)\ttotal: 11.2s\tremaining: 3.7s\n",
      "760:\tlearn: 0.2245863\ttest: 0.2894466\tbest: 0.2850413 (391)\ttotal: 11.4s\tremaining: 3.58s\n",
      "770:\tlearn: 0.2241827\ttest: 0.2896108\tbest: 0.2850413 (391)\ttotal: 11.6s\tremaining: 3.45s\n",
      "780:\tlearn: 0.2236401\ttest: 0.2896588\tbest: 0.2850413 (391)\ttotal: 11.8s\tremaining: 3.32s\n",
      "790:\tlearn: 0.2232209\ttest: 0.2897762\tbest: 0.2850413 (391)\ttotal: 12.1s\tremaining: 3.2s\n",
      "800:\tlearn: 0.2228647\ttest: 0.2898044\tbest: 0.2850413 (391)\ttotal: 12.4s\tremaining: 3.08s\n",
      "810:\tlearn: 0.2225136\ttest: 0.2898648\tbest: 0.2850413 (391)\ttotal: 12.6s\tremaining: 2.94s\n",
      "820:\tlearn: 0.2220346\ttest: 0.2900593\tbest: 0.2850413 (391)\ttotal: 12.8s\tremaining: 2.79s\n",
      "830:\tlearn: 0.2215151\ttest: 0.2903874\tbest: 0.2850413 (391)\ttotal: 13s\tremaining: 2.65s\n",
      "840:\tlearn: 0.2212736\ttest: 0.2904335\tbest: 0.2850413 (391)\ttotal: 13.2s\tremaining: 2.49s\n",
      "850:\tlearn: 0.2208577\ttest: 0.2906087\tbest: 0.2850413 (391)\ttotal: 13.4s\tremaining: 2.35s\n",
      "860:\tlearn: 0.2203310\ttest: 0.2907787\tbest: 0.2850413 (391)\ttotal: 13.6s\tremaining: 2.19s\n",
      "870:\tlearn: 0.2199272\ttest: 0.2910185\tbest: 0.2850413 (391)\ttotal: 13.8s\tremaining: 2.04s\n",
      "880:\tlearn: 0.2194579\ttest: 0.2911668\tbest: 0.2850413 (391)\ttotal: 14s\tremaining: 1.89s\n",
      "890:\tlearn: 0.2191705\ttest: 0.2912058\tbest: 0.2850413 (391)\ttotal: 14.2s\tremaining: 1.73s\n",
      "900:\tlearn: 0.2187487\ttest: 0.2913265\tbest: 0.2850413 (391)\ttotal: 14.3s\tremaining: 1.58s\n",
      "910:\tlearn: 0.2183496\ttest: 0.2914471\tbest: 0.2850413 (391)\ttotal: 14.5s\tremaining: 1.42s\n",
      "920:\tlearn: 0.2179981\ttest: 0.2915745\tbest: 0.2850413 (391)\ttotal: 14.7s\tremaining: 1.26s\n"
     ]
    },
    {
     "name": "stdout",
     "output_type": "stream",
     "text": [
      "930:\tlearn: 0.2175629\ttest: 0.2917657\tbest: 0.2850413 (391)\ttotal: 14.9s\tremaining: 1.1s\n",
      "940:\tlearn: 0.2172309\ttest: 0.2916336\tbest: 0.2850413 (391)\ttotal: 15.1s\tremaining: 945ms\n",
      "950:\tlearn: 0.2167015\ttest: 0.2918522\tbest: 0.2850413 (391)\ttotal: 15.3s\tremaining: 786ms\n",
      "960:\tlearn: 0.2164175\ttest: 0.2919054\tbest: 0.2850413 (391)\ttotal: 15.4s\tremaining: 627ms\n",
      "970:\tlearn: 0.2160079\ttest: 0.2922101\tbest: 0.2850413 (391)\ttotal: 15.7s\tremaining: 468ms\n",
      "980:\tlearn: 0.2155901\ttest: 0.2926847\tbest: 0.2850413 (391)\ttotal: 15.8s\tremaining: 306ms\n",
      "990:\tlearn: 0.2151521\ttest: 0.2926231\tbest: 0.2850413 (391)\ttotal: 16s\tremaining: 145ms\n",
      "999:\tlearn: 0.2147395\ttest: 0.2928855\tbest: 0.2850413 (391)\ttotal: 16.2s\tremaining: 0us\n",
      "\n",
      "bestTest = 0.2850412612\n",
      "bestIteration = 391\n",
      "\n",
      "Shrink model to first 392 iterations.\n",
      "\n",
      "2 of fold 5\n",
      "Learning rate set to 0.108118\n",
      "0:\tlearn: 0.5972818\ttest: 0.5986080\tbest: 0.5986080 (0)\ttotal: 20.2ms\tremaining: 20.1s\n",
      "10:\tlearn: 0.3416587\ttest: 0.3494984\tbest: 0.3494984 (10)\ttotal: 199ms\tremaining: 17.9s\n",
      "20:\tlearn: 0.3149515\ttest: 0.3244513\tbest: 0.3244513 (20)\ttotal: 461ms\tremaining: 21.5s\n",
      "30:\tlearn: 0.3047752\ttest: 0.3154871\tbest: 0.3154871 (30)\ttotal: 641ms\tremaining: 20s\n",
      "40:\tlearn: 0.2983845\ttest: 0.3107529\tbest: 0.3107529 (40)\ttotal: 857ms\tremaining: 20s\n",
      "50:\tlearn: 0.2922208\ttest: 0.3057321\tbest: 0.3057321 (50)\ttotal: 1.01s\tremaining: 18.8s\n",
      "60:\tlearn: 0.2881549\ttest: 0.3027653\tbest: 0.3027653 (60)\ttotal: 1.18s\tremaining: 18.1s\n",
      "70:\tlearn: 0.2849144\ttest: 0.3006570\tbest: 0.3006570 (70)\ttotal: 1.39s\tremaining: 18.2s\n",
      "80:\tlearn: 0.2819499\ttest: 0.2989471\tbest: 0.2989471 (80)\ttotal: 1.66s\tremaining: 18.8s\n",
      "90:\tlearn: 0.2796844\ttest: 0.2978855\tbest: 0.2978855 (90)\ttotal: 1.8s\tremaining: 18s\n",
      "100:\tlearn: 0.2775282\ttest: 0.2970309\tbest: 0.2970309 (100)\ttotal: 1.95s\tremaining: 17.3s\n",
      "110:\tlearn: 0.2754650\ttest: 0.2961478\tbest: 0.2961281 (109)\ttotal: 2.08s\tremaining: 16.7s\n",
      "120:\tlearn: 0.2722049\ttest: 0.2936400\tbest: 0.2936400 (120)\ttotal: 2.22s\tremaining: 16.1s\n",
      "130:\tlearn: 0.2703836\ttest: 0.2933342\tbest: 0.2932012 (126)\ttotal: 2.36s\tremaining: 15.6s\n",
      "140:\tlearn: 0.2684424\ttest: 0.2927902\tbest: 0.2927902 (140)\ttotal: 2.5s\tremaining: 15.2s\n",
      "150:\tlearn: 0.2668332\ttest: 0.2924906\tbest: 0.2924367 (149)\ttotal: 2.63s\tremaining: 14.8s\n",
      "160:\tlearn: 0.2651056\ttest: 0.2920677\tbest: 0.2919592 (156)\ttotal: 2.79s\tremaining: 14.6s\n",
      "170:\tlearn: 0.2638382\ttest: 0.2919371\tbest: 0.2919371 (170)\ttotal: 2.95s\tremaining: 14.3s\n",
      "180:\tlearn: 0.2622423\ttest: 0.2910197\tbest: 0.2910197 (180)\ttotal: 3.18s\tremaining: 14.4s\n",
      "190:\tlearn: 0.2612978\ttest: 0.2909886\tbest: 0.2909262 (185)\ttotal: 3.33s\tremaining: 14.1s\n",
      "200:\tlearn: 0.2600429\ttest: 0.2909681\tbest: 0.2908125 (192)\ttotal: 3.52s\tremaining: 14s\n",
      "210:\tlearn: 0.2590058\ttest: 0.2908540\tbest: 0.2907849 (208)\ttotal: 3.71s\tremaining: 13.9s\n",
      "220:\tlearn: 0.2581435\ttest: 0.2910905\tbest: 0.2907849 (208)\ttotal: 3.89s\tremaining: 13.7s\n",
      "230:\tlearn: 0.2571608\ttest: 0.2911368\tbest: 0.2907849 (208)\ttotal: 4.1s\tremaining: 13.7s\n",
      "240:\tlearn: 0.2560771\ttest: 0.2908700\tbest: 0.2907849 (208)\ttotal: 4.25s\tremaining: 13.4s\n",
      "250:\tlearn: 0.2552040\ttest: 0.2909052\tbest: 0.2907503 (245)\ttotal: 4.46s\tremaining: 13.3s\n",
      "260:\tlearn: 0.2542269\ttest: 0.2908643\tbest: 0.2907143 (254)\ttotal: 4.62s\tremaining: 13.1s\n",
      "270:\tlearn: 0.2532080\ttest: 0.2911465\tbest: 0.2907143 (254)\ttotal: 4.82s\tremaining: 13s\n",
      "280:\tlearn: 0.2522670\ttest: 0.2910209\tbest: 0.2907143 (254)\ttotal: 4.98s\tremaining: 12.7s\n",
      "290:\tlearn: 0.2515503\ttest: 0.2910085\tbest: 0.2907143 (254)\ttotal: 5.15s\tremaining: 12.5s\n",
      "300:\tlearn: 0.2507833\ttest: 0.2907795\tbest: 0.2907143 (254)\ttotal: 5.34s\tremaining: 12.4s\n",
      "310:\tlearn: 0.2496568\ttest: 0.2907897\tbest: 0.2907028 (303)\ttotal: 5.49s\tremaining: 12.2s\n",
      "320:\tlearn: 0.2487306\ttest: 0.2908637\tbest: 0.2907028 (303)\ttotal: 5.64s\tremaining: 11.9s\n",
      "330:\tlearn: 0.2480212\ttest: 0.2907500\tbest: 0.2907028 (303)\ttotal: 5.77s\tremaining: 11.7s\n",
      "340:\tlearn: 0.2474818\ttest: 0.2907962\tbest: 0.2907028 (303)\ttotal: 5.91s\tremaining: 11.4s\n",
      "350:\tlearn: 0.2468021\ttest: 0.2909901\tbest: 0.2907028 (303)\ttotal: 6.04s\tremaining: 11.2s\n",
      "360:\tlearn: 0.2460828\ttest: 0.2910200\tbest: 0.2907028 (303)\ttotal: 6.19s\tremaining: 11s\n",
      "370:\tlearn: 0.2453955\ttest: 0.2911275\tbest: 0.2907028 (303)\ttotal: 6.35s\tremaining: 10.8s\n",
      "380:\tlearn: 0.2447002\ttest: 0.2910760\tbest: 0.2907028 (303)\ttotal: 6.52s\tremaining: 10.6s\n",
      "390:\tlearn: 0.2439550\ttest: 0.2910661\tbest: 0.2907028 (303)\ttotal: 6.66s\tremaining: 10.4s\n",
      "400:\tlearn: 0.2433407\ttest: 0.2912347\tbest: 0.2907028 (303)\ttotal: 6.82s\tremaining: 10.2s\n",
      "410:\tlearn: 0.2428004\ttest: 0.2913888\tbest: 0.2907028 (303)\ttotal: 6.96s\tremaining: 9.97s\n",
      "420:\tlearn: 0.2421778\ttest: 0.2913811\tbest: 0.2907028 (303)\ttotal: 7.11s\tremaining: 9.78s\n",
      "430:\tlearn: 0.2414347\ttest: 0.2915563\tbest: 0.2907028 (303)\ttotal: 7.25s\tremaining: 9.57s\n",
      "440:\tlearn: 0.2408859\ttest: 0.2915295\tbest: 0.2907028 (303)\ttotal: 7.41s\tremaining: 9.39s\n",
      "450:\tlearn: 0.2401808\ttest: 0.2913903\tbest: 0.2907028 (303)\ttotal: 7.54s\tremaining: 9.17s\n",
      "460:\tlearn: 0.2396440\ttest: 0.2915708\tbest: 0.2907028 (303)\ttotal: 7.68s\tremaining: 8.98s\n",
      "470:\tlearn: 0.2390507\ttest: 0.2918178\tbest: 0.2907028 (303)\ttotal: 7.81s\tremaining: 8.77s\n",
      "480:\tlearn: 0.2384645\ttest: 0.2920529\tbest: 0.2907028 (303)\ttotal: 7.96s\tremaining: 8.59s\n",
      "490:\tlearn: 0.2376513\ttest: 0.2922219\tbest: 0.2907028 (303)\ttotal: 8.09s\tremaining: 8.38s\n",
      "500:\tlearn: 0.2370515\ttest: 0.2924017\tbest: 0.2907028 (303)\ttotal: 8.23s\tremaining: 8.2s\n",
      "510:\tlearn: 0.2363015\ttest: 0.2924643\tbest: 0.2907028 (303)\ttotal: 8.37s\tremaining: 8.01s\n",
      "520:\tlearn: 0.2355277\ttest: 0.2925666\tbest: 0.2907028 (303)\ttotal: 8.52s\tremaining: 7.83s\n",
      "530:\tlearn: 0.2347916\ttest: 0.2925330\tbest: 0.2907028 (303)\ttotal: 8.65s\tremaining: 7.64s\n",
      "540:\tlearn: 0.2342673\ttest: 0.2925447\tbest: 0.2907028 (303)\ttotal: 8.8s\tremaining: 7.46s\n",
      "550:\tlearn: 0.2338057\ttest: 0.2926595\tbest: 0.2907028 (303)\ttotal: 8.92s\tremaining: 7.27s\n",
      "560:\tlearn: 0.2331594\ttest: 0.2925763\tbest: 0.2907028 (303)\ttotal: 9.08s\tremaining: 7.1s\n",
      "570:\tlearn: 0.2325823\ttest: 0.2927196\tbest: 0.2907028 (303)\ttotal: 9.21s\tremaining: 6.92s\n",
      "580:\tlearn: 0.2317321\ttest: 0.2928661\tbest: 0.2907028 (303)\ttotal: 9.37s\tremaining: 6.75s\n",
      "590:\tlearn: 0.2313070\ttest: 0.2928653\tbest: 0.2907028 (303)\ttotal: 9.5s\tremaining: 6.57s\n",
      "600:\tlearn: 0.2308329\ttest: 0.2929763\tbest: 0.2907028 (303)\ttotal: 9.64s\tremaining: 6.4s\n",
      "610:\tlearn: 0.2302549\ttest: 0.2933841\tbest: 0.2907028 (303)\ttotal: 9.8s\tremaining: 6.24s\n",
      "620:\tlearn: 0.2297285\ttest: 0.2934858\tbest: 0.2907028 (303)\ttotal: 9.95s\tremaining: 6.07s\n",
      "630:\tlearn: 0.2292985\ttest: 0.2934988\tbest: 0.2907028 (303)\ttotal: 10.1s\tremaining: 5.89s\n",
      "640:\tlearn: 0.2286883\ttest: 0.2937903\tbest: 0.2907028 (303)\ttotal: 10.2s\tremaining: 5.72s\n",
      "650:\tlearn: 0.2282071\ttest: 0.2940268\tbest: 0.2907028 (303)\ttotal: 10.4s\tremaining: 5.55s\n",
      "660:\tlearn: 0.2277012\ttest: 0.2941029\tbest: 0.2907028 (303)\ttotal: 10.5s\tremaining: 5.39s\n",
      "670:\tlearn: 0.2271455\ttest: 0.2943095\tbest: 0.2907028 (303)\ttotal: 10.6s\tremaining: 5.21s\n",
      "680:\tlearn: 0.2267650\ttest: 0.2944127\tbest: 0.2907028 (303)\ttotal: 10.8s\tremaining: 5.05s\n",
      "690:\tlearn: 0.2261777\ttest: 0.2946171\tbest: 0.2907028 (303)\ttotal: 10.9s\tremaining: 4.89s\n",
      "700:\tlearn: 0.2257666\ttest: 0.2946853\tbest: 0.2907028 (303)\ttotal: 11.1s\tremaining: 4.73s\n",
      "710:\tlearn: 0.2253317\ttest: 0.2949294\tbest: 0.2907028 (303)\ttotal: 11.2s\tremaining: 4.56s\n",
      "720:\tlearn: 0.2248487\ttest: 0.2950484\tbest: 0.2907028 (303)\ttotal: 11.4s\tremaining: 4.4s\n",
      "730:\tlearn: 0.2242465\ttest: 0.2951654\tbest: 0.2907028 (303)\ttotal: 11.5s\tremaining: 4.24s\n",
      "740:\tlearn: 0.2238990\ttest: 0.2952972\tbest: 0.2907028 (303)\ttotal: 11.7s\tremaining: 4.07s\n",
      "750:\tlearn: 0.2235248\ttest: 0.2954589\tbest: 0.2907028 (303)\ttotal: 11.8s\tremaining: 3.91s\n",
      "760:\tlearn: 0.2230804\ttest: 0.2956569\tbest: 0.2907028 (303)\ttotal: 11.9s\tremaining: 3.75s\n",
      "770:\tlearn: 0.2225090\ttest: 0.2955535\tbest: 0.2907028 (303)\ttotal: 12.1s\tremaining: 3.58s\n",
      "780:\tlearn: 0.2220302\ttest: 0.2956888\tbest: 0.2907028 (303)\ttotal: 12.2s\tremaining: 3.42s\n",
      "790:\tlearn: 0.2216032\ttest: 0.2958077\tbest: 0.2907028 (303)\ttotal: 12.3s\tremaining: 3.26s\n",
      "800:\tlearn: 0.2211492\ttest: 0.2959338\tbest: 0.2907028 (303)\ttotal: 12.5s\tremaining: 3.1s\n",
      "810:\tlearn: 0.2205236\ttest: 0.2963160\tbest: 0.2907028 (303)\ttotal: 12.6s\tremaining: 2.94s\n",
      "820:\tlearn: 0.2199461\ttest: 0.2964743\tbest: 0.2907028 (303)\ttotal: 12.8s\tremaining: 2.78s\n",
      "830:\tlearn: 0.2193964\ttest: 0.2968639\tbest: 0.2907028 (303)\ttotal: 12.9s\tremaining: 2.62s\n"
     ]
    },
    {
     "name": "stdout",
     "output_type": "stream",
     "text": [
      "840:\tlearn: 0.2190968\ttest: 0.2970748\tbest: 0.2907028 (303)\ttotal: 13s\tremaining: 2.47s\n",
      "850:\tlearn: 0.2186507\ttest: 0.2973029\tbest: 0.2907028 (303)\ttotal: 13.2s\tremaining: 2.31s\n",
      "860:\tlearn: 0.2181536\ttest: 0.2974488\tbest: 0.2907028 (303)\ttotal: 13.3s\tremaining: 2.15s\n",
      "870:\tlearn: 0.2177246\ttest: 0.2977664\tbest: 0.2907028 (303)\ttotal: 13.5s\tremaining: 1.99s\n",
      "880:\tlearn: 0.2174474\ttest: 0.2980088\tbest: 0.2907028 (303)\ttotal: 13.6s\tremaining: 1.84s\n",
      "890:\tlearn: 0.2171283\ttest: 0.2980084\tbest: 0.2907028 (303)\ttotal: 13.7s\tremaining: 1.68s\n",
      "900:\tlearn: 0.2167805\ttest: 0.2980976\tbest: 0.2907028 (303)\ttotal: 13.9s\tremaining: 1.52s\n",
      "910:\tlearn: 0.2164654\ttest: 0.2982034\tbest: 0.2907028 (303)\ttotal: 14s\tremaining: 1.37s\n",
      "920:\tlearn: 0.2160905\ttest: 0.2986383\tbest: 0.2907028 (303)\ttotal: 14.1s\tremaining: 1.21s\n",
      "930:\tlearn: 0.2156870\ttest: 0.2988689\tbest: 0.2907028 (303)\ttotal: 14.3s\tremaining: 1.06s\n",
      "940:\tlearn: 0.2152727\ttest: 0.2988577\tbest: 0.2907028 (303)\ttotal: 14.4s\tremaining: 904ms\n",
      "950:\tlearn: 0.2148653\ttest: 0.2989633\tbest: 0.2907028 (303)\ttotal: 14.6s\tremaining: 754ms\n",
      "960:\tlearn: 0.2144693\ttest: 0.2994631\tbest: 0.2907028 (303)\ttotal: 14.9s\tremaining: 604ms\n",
      "970:\tlearn: 0.2140184\ttest: 0.2997470\tbest: 0.2907028 (303)\ttotal: 15.1s\tremaining: 451ms\n",
      "980:\tlearn: 0.2136901\ttest: 0.2999479\tbest: 0.2907028 (303)\ttotal: 15.3s\tremaining: 296ms\n",
      "990:\tlearn: 0.2133147\ttest: 0.3002827\tbest: 0.2907028 (303)\ttotal: 15.5s\tremaining: 141ms\n",
      "999:\tlearn: 0.2130540\ttest: 0.3002770\tbest: 0.2907028 (303)\ttotal: 15.7s\tremaining: 0us\n",
      "\n",
      "bestTest = 0.2907027569\n",
      "bestIteration = 303\n",
      "\n",
      "Shrink model to first 304 iterations.\n",
      "\n",
      "3 of fold 5\n",
      "Learning rate set to 0.108121\n",
      "0:\tlearn: 0.5971867\ttest: 0.5963251\tbest: 0.5963251 (0)\ttotal: 13.1ms\tremaining: 13.1s\n",
      "10:\tlearn: 0.3447083\ttest: 0.3368342\tbest: 0.3368342 (10)\ttotal: 214ms\tremaining: 19.3s\n",
      "20:\tlearn: 0.3190346\ttest: 0.3109580\tbest: 0.3109580 (20)\ttotal: 398ms\tremaining: 18.5s\n",
      "30:\tlearn: 0.3077943\ttest: 0.3004132\tbest: 0.3004132 (30)\ttotal: 618ms\tremaining: 19.3s\n",
      "40:\tlearn: 0.3013398\ttest: 0.2953209\tbest: 0.2953209 (40)\ttotal: 769ms\tremaining: 18s\n",
      "50:\tlearn: 0.2957623\ttest: 0.2908363\tbest: 0.2908363 (50)\ttotal: 944ms\tremaining: 17.6s\n",
      "60:\tlearn: 0.2910762\ttest: 0.2873690\tbest: 0.2873690 (60)\ttotal: 1.13s\tremaining: 17.4s\n",
      "70:\tlearn: 0.2882981\ttest: 0.2858677\tbest: 0.2858677 (70)\ttotal: 1.33s\tremaining: 17.4s\n",
      "80:\tlearn: 0.2853152\ttest: 0.2842043\tbest: 0.2842043 (80)\ttotal: 1.51s\tremaining: 17.1s\n",
      "90:\tlearn: 0.2829649\ttest: 0.2827239\tbest: 0.2827239 (90)\ttotal: 1.71s\tremaining: 17.1s\n",
      "100:\tlearn: 0.2808048\ttest: 0.2818658\tbest: 0.2818658 (100)\ttotal: 1.87s\tremaining: 16.7s\n",
      "110:\tlearn: 0.2784681\ttest: 0.2806886\tbest: 0.2806886 (110)\ttotal: 2.04s\tremaining: 16.4s\n",
      "120:\tlearn: 0.2750992\ttest: 0.2782604\tbest: 0.2782604 (120)\ttotal: 2.23s\tremaining: 16.2s\n",
      "130:\tlearn: 0.2733329\ttest: 0.2775390\tbest: 0.2775390 (130)\ttotal: 2.42s\tremaining: 16.1s\n",
      "140:\tlearn: 0.2719082\ttest: 0.2770353\tbest: 0.2770118 (139)\ttotal: 2.65s\tremaining: 16.1s\n",
      "150:\tlearn: 0.2701974\ttest: 0.2769371\tbest: 0.2766811 (144)\ttotal: 2.8s\tremaining: 15.7s\n",
      "160:\tlearn: 0.2687840\ttest: 0.2766505\tbest: 0.2766165 (159)\ttotal: 2.95s\tremaining: 15.4s\n",
      "170:\tlearn: 0.2676322\ttest: 0.2765949\tbest: 0.2765504 (161)\ttotal: 3.1s\tremaining: 15s\n",
      "180:\tlearn: 0.2666555\ttest: 0.2760160\tbest: 0.2760160 (180)\ttotal: 3.26s\tremaining: 14.7s\n",
      "190:\tlearn: 0.2654521\ttest: 0.2757152\tbest: 0.2757152 (190)\ttotal: 3.39s\tremaining: 14.3s\n",
      "200:\tlearn: 0.2645695\ttest: 0.2753940\tbest: 0.2753940 (200)\ttotal: 3.53s\tremaining: 14s\n",
      "210:\tlearn: 0.2631687\ttest: 0.2754879\tbest: 0.2751915 (202)\ttotal: 3.68s\tremaining: 13.8s\n",
      "220:\tlearn: 0.2619653\ttest: 0.2755882\tbest: 0.2751915 (202)\ttotal: 3.84s\tremaining: 13.5s\n",
      "230:\tlearn: 0.2608723\ttest: 0.2750407\tbest: 0.2749380 (227)\ttotal: 3.97s\tremaining: 13.2s\n",
      "240:\tlearn: 0.2598379\ttest: 0.2752251\tbest: 0.2749380 (227)\ttotal: 4.12s\tremaining: 13s\n",
      "250:\tlearn: 0.2588642\ttest: 0.2752614\tbest: 0.2749380 (227)\ttotal: 4.32s\tremaining: 12.9s\n",
      "260:\tlearn: 0.2577839\ttest: 0.2751257\tbest: 0.2749380 (227)\ttotal: 4.53s\tremaining: 12.8s\n",
      "270:\tlearn: 0.2571314\ttest: 0.2750683\tbest: 0.2749380 (227)\ttotal: 4.67s\tremaining: 12.6s\n",
      "280:\tlearn: 0.2562443\ttest: 0.2753428\tbest: 0.2749380 (227)\ttotal: 4.86s\tremaining: 12.4s\n",
      "290:\tlearn: 0.2555701\ttest: 0.2753438\tbest: 0.2749380 (227)\ttotal: 5.02s\tremaining: 12.2s\n",
      "300:\tlearn: 0.2547749\ttest: 0.2753876\tbest: 0.2749380 (227)\ttotal: 5.25s\tremaining: 12.2s\n",
      "310:\tlearn: 0.2541453\ttest: 0.2748617\tbest: 0.2748617 (310)\ttotal: 5.42s\tremaining: 12s\n",
      "320:\tlearn: 0.2534562\ttest: 0.2749692\tbest: 0.2748057 (313)\ttotal: 5.62s\tremaining: 11.9s\n",
      "330:\tlearn: 0.2526990\ttest: 0.2747998\tbest: 0.2747739 (328)\ttotal: 5.79s\tremaining: 11.7s\n",
      "340:\tlearn: 0.2518885\ttest: 0.2749575\tbest: 0.2747739 (328)\ttotal: 5.97s\tremaining: 11.5s\n",
      "350:\tlearn: 0.2511670\ttest: 0.2750338\tbest: 0.2747739 (328)\ttotal: 6.13s\tremaining: 11.3s\n",
      "360:\tlearn: 0.2504351\ttest: 0.2750291\tbest: 0.2747739 (328)\ttotal: 6.3s\tremaining: 11.1s\n",
      "370:\tlearn: 0.2494941\ttest: 0.2749990\tbest: 0.2747739 (328)\ttotal: 6.5s\tremaining: 11s\n",
      "380:\tlearn: 0.2487040\ttest: 0.2751217\tbest: 0.2747739 (328)\ttotal: 6.65s\tremaining: 10.8s\n",
      "390:\tlearn: 0.2479265\ttest: 0.2752391\tbest: 0.2747739 (328)\ttotal: 6.8s\tremaining: 10.6s\n",
      "400:\tlearn: 0.2473441\ttest: 0.2752566\tbest: 0.2747739 (328)\ttotal: 6.93s\tremaining: 10.4s\n",
      "410:\tlearn: 0.2466615\ttest: 0.2752812\tbest: 0.2747739 (328)\ttotal: 7.08s\tremaining: 10.1s\n",
      "420:\tlearn: 0.2458767\ttest: 0.2753829\tbest: 0.2747739 (328)\ttotal: 7.2s\tremaining: 9.91s\n",
      "430:\tlearn: 0.2452684\ttest: 0.2755330\tbest: 0.2747739 (328)\ttotal: 7.35s\tremaining: 9.7s\n",
      "440:\tlearn: 0.2446558\ttest: 0.2756372\tbest: 0.2747739 (328)\ttotal: 7.48s\tremaining: 9.48s\n",
      "450:\tlearn: 0.2442264\ttest: 0.2754069\tbest: 0.2747739 (328)\ttotal: 7.63s\tremaining: 9.28s\n",
      "460:\tlearn: 0.2436626\ttest: 0.2755441\tbest: 0.2747739 (328)\ttotal: 7.77s\tremaining: 9.08s\n",
      "470:\tlearn: 0.2429884\ttest: 0.2755739\tbest: 0.2747739 (328)\ttotal: 7.91s\tremaining: 8.89s\n",
      "480:\tlearn: 0.2423532\ttest: 0.2756356\tbest: 0.2747739 (328)\ttotal: 8.04s\tremaining: 8.68s\n",
      "490:\tlearn: 0.2416967\ttest: 0.2759194\tbest: 0.2747739 (328)\ttotal: 8.19s\tremaining: 8.49s\n",
      "500:\tlearn: 0.2412946\ttest: 0.2759311\tbest: 0.2747739 (328)\ttotal: 8.32s\tremaining: 8.29s\n",
      "510:\tlearn: 0.2407692\ttest: 0.2758995\tbest: 0.2747739 (328)\ttotal: 8.47s\tremaining: 8.11s\n",
      "520:\tlearn: 0.2401894\ttest: 0.2759418\tbest: 0.2747739 (328)\ttotal: 8.6s\tremaining: 7.91s\n",
      "530:\tlearn: 0.2396802\ttest: 0.2759190\tbest: 0.2747739 (328)\ttotal: 8.76s\tremaining: 7.73s\n",
      "540:\tlearn: 0.2390598\ttest: 0.2760045\tbest: 0.2747739 (328)\ttotal: 8.88s\tremaining: 7.54s\n",
      "550:\tlearn: 0.2386046\ttest: 0.2761183\tbest: 0.2747739 (328)\ttotal: 9.03s\tremaining: 7.36s\n",
      "560:\tlearn: 0.2379433\ttest: 0.2762977\tbest: 0.2747739 (328)\ttotal: 9.16s\tremaining: 7.16s\n",
      "570:\tlearn: 0.2372847\ttest: 0.2766446\tbest: 0.2747739 (328)\ttotal: 9.3s\tremaining: 6.99s\n",
      "580:\tlearn: 0.2366642\ttest: 0.2765104\tbest: 0.2747739 (328)\ttotal: 9.43s\tremaining: 6.8s\n",
      "590:\tlearn: 0.2360268\ttest: 0.2765502\tbest: 0.2747739 (328)\ttotal: 9.58s\tremaining: 6.63s\n",
      "600:\tlearn: 0.2354606\ttest: 0.2767115\tbest: 0.2747739 (328)\ttotal: 9.75s\tremaining: 6.47s\n",
      "610:\tlearn: 0.2349016\ttest: 0.2765886\tbest: 0.2747739 (328)\ttotal: 9.98s\tremaining: 6.36s\n",
      "620:\tlearn: 0.2343942\ttest: 0.2766654\tbest: 0.2747739 (328)\ttotal: 10.2s\tremaining: 6.21s\n",
      "630:\tlearn: 0.2337721\ttest: 0.2765469\tbest: 0.2747739 (328)\ttotal: 10.4s\tremaining: 6.07s\n",
      "640:\tlearn: 0.2331673\ttest: 0.2766843\tbest: 0.2747739 (328)\ttotal: 10.6s\tremaining: 5.91s\n",
      "650:\tlearn: 0.2324545\ttest: 0.2769192\tbest: 0.2747739 (328)\ttotal: 10.7s\tremaining: 5.76s\n",
      "660:\tlearn: 0.2318061\ttest: 0.2771194\tbest: 0.2747739 (328)\ttotal: 10.9s\tremaining: 5.6s\n",
      "670:\tlearn: 0.2311982\ttest: 0.2772949\tbest: 0.2747739 (328)\ttotal: 11.1s\tremaining: 5.43s\n",
      "680:\tlearn: 0.2306884\ttest: 0.2775942\tbest: 0.2747739 (328)\ttotal: 11.2s\tremaining: 5.25s\n",
      "690:\tlearn: 0.2302840\ttest: 0.2778330\tbest: 0.2747739 (328)\ttotal: 11.3s\tremaining: 5.07s\n",
      "700:\tlearn: 0.2298997\ttest: 0.2779033\tbest: 0.2747739 (328)\ttotal: 11.5s\tremaining: 4.9s\n",
      "710:\tlearn: 0.2294026\ttest: 0.2778220\tbest: 0.2747739 (328)\ttotal: 11.6s\tremaining: 4.72s\n",
      "720:\tlearn: 0.2288483\ttest: 0.2781628\tbest: 0.2747739 (328)\ttotal: 11.8s\tremaining: 4.56s\n",
      "730:\tlearn: 0.2284880\ttest: 0.2784533\tbest: 0.2747739 (328)\ttotal: 11.9s\tremaining: 4.39s\n"
     ]
    },
    {
     "name": "stdout",
     "output_type": "stream",
     "text": [
      "740:\tlearn: 0.2281002\ttest: 0.2784598\tbest: 0.2747739 (328)\ttotal: 12.1s\tremaining: 4.24s\n",
      "750:\tlearn: 0.2275861\ttest: 0.2786459\tbest: 0.2747739 (328)\ttotal: 12.3s\tremaining: 4.08s\n",
      "760:\tlearn: 0.2270850\ttest: 0.2786856\tbest: 0.2747739 (328)\ttotal: 12.5s\tremaining: 3.93s\n",
      "770:\tlearn: 0.2265959\ttest: 0.2790269\tbest: 0.2747739 (328)\ttotal: 12.7s\tremaining: 3.77s\n",
      "780:\tlearn: 0.2263423\ttest: 0.2791932\tbest: 0.2747739 (328)\ttotal: 12.9s\tremaining: 3.61s\n",
      "790:\tlearn: 0.2258784\ttest: 0.2791702\tbest: 0.2747739 (328)\ttotal: 13s\tremaining: 3.44s\n",
      "800:\tlearn: 0.2252209\ttest: 0.2790953\tbest: 0.2747739 (328)\ttotal: 13.2s\tremaining: 3.27s\n",
      "810:\tlearn: 0.2246951\ttest: 0.2793101\tbest: 0.2747739 (328)\ttotal: 13.3s\tremaining: 3.1s\n",
      "820:\tlearn: 0.2243295\ttest: 0.2795289\tbest: 0.2747739 (328)\ttotal: 13.4s\tremaining: 2.93s\n",
      "830:\tlearn: 0.2239058\ttest: 0.2797805\tbest: 0.2747739 (328)\ttotal: 13.6s\tremaining: 2.76s\n",
      "840:\tlearn: 0.2237047\ttest: 0.2799460\tbest: 0.2747739 (328)\ttotal: 13.7s\tremaining: 2.59s\n",
      "850:\tlearn: 0.2232958\ttest: 0.2800014\tbest: 0.2747739 (328)\ttotal: 13.9s\tremaining: 2.43s\n",
      "860:\tlearn: 0.2228576\ttest: 0.2800370\tbest: 0.2747739 (328)\ttotal: 14s\tremaining: 2.26s\n",
      "870:\tlearn: 0.2223790\ttest: 0.2800685\tbest: 0.2747739 (328)\ttotal: 14.1s\tremaining: 2.09s\n",
      "880:\tlearn: 0.2221373\ttest: 0.2801593\tbest: 0.2747739 (328)\ttotal: 14.3s\tremaining: 1.93s\n",
      "890:\tlearn: 0.2217716\ttest: 0.2800448\tbest: 0.2747739 (328)\ttotal: 14.4s\tremaining: 1.76s\n",
      "900:\tlearn: 0.2213655\ttest: 0.2803780\tbest: 0.2747739 (328)\ttotal: 14.6s\tremaining: 1.6s\n",
      "910:\tlearn: 0.2211236\ttest: 0.2804587\tbest: 0.2747739 (328)\ttotal: 14.7s\tremaining: 1.43s\n",
      "920:\tlearn: 0.2207119\ttest: 0.2805657\tbest: 0.2747739 (328)\ttotal: 14.8s\tremaining: 1.27s\n",
      "930:\tlearn: 0.2202297\ttest: 0.2807773\tbest: 0.2747739 (328)\ttotal: 15s\tremaining: 1.11s\n",
      "940:\tlearn: 0.2199681\ttest: 0.2808010\tbest: 0.2747739 (328)\ttotal: 15.2s\tremaining: 954ms\n",
      "950:\tlearn: 0.2196215\ttest: 0.2809652\tbest: 0.2747739 (328)\ttotal: 15.4s\tremaining: 794ms\n",
      "960:\tlearn: 0.2191826\ttest: 0.2811339\tbest: 0.2747739 (328)\ttotal: 15.6s\tremaining: 633ms\n",
      "970:\tlearn: 0.2188809\ttest: 0.2812857\tbest: 0.2747739 (328)\ttotal: 15.8s\tremaining: 471ms\n",
      "980:\tlearn: 0.2183540\ttest: 0.2813541\tbest: 0.2747739 (328)\ttotal: 15.9s\tremaining: 309ms\n",
      "990:\tlearn: 0.2179407\ttest: 0.2813952\tbest: 0.2747739 (328)\ttotal: 16.1s\tremaining: 146ms\n",
      "999:\tlearn: 0.2175563\ttest: 0.2813964\tbest: 0.2747739 (328)\ttotal: 16.2s\tremaining: 0us\n",
      "\n",
      "bestTest = 0.2747738853\n",
      "bestIteration = 328\n",
      "\n",
      "Shrink model to first 329 iterations.\n",
      "\n",
      "4 of fold 5\n",
      "Learning rate set to 0.108141\n",
      "0:\tlearn: 0.5933319\ttest: 0.5933729\tbest: 0.5933729 (0)\ttotal: 13.7ms\tremaining: 13.7s\n",
      "10:\tlearn: 0.3408184\ttest: 0.3443489\tbest: 0.3443489 (10)\ttotal: 164ms\tremaining: 14.7s\n",
      "20:\tlearn: 0.3142619\ttest: 0.3213554\tbest: 0.3213554 (20)\ttotal: 291ms\tremaining: 13.6s\n",
      "30:\tlearn: 0.3040425\ttest: 0.3135165\tbest: 0.3135165 (30)\ttotal: 434ms\tremaining: 13.6s\n",
      "40:\tlearn: 0.2967503\ttest: 0.3077402\tbest: 0.3077402 (40)\ttotal: 577ms\tremaining: 13.5s\n",
      "50:\tlearn: 0.2931166\ttest: 0.3062441\tbest: 0.3062441 (50)\ttotal: 722ms\tremaining: 13.4s\n",
      "60:\tlearn: 0.2879402\ttest: 0.3019470\tbest: 0.3019470 (60)\ttotal: 854ms\tremaining: 13.1s\n",
      "70:\tlearn: 0.2847956\ttest: 0.3002147\tbest: 0.3002147 (70)\ttotal: 997ms\tremaining: 13s\n",
      "80:\tlearn: 0.2824655\ttest: 0.2992698\tbest: 0.2992698 (80)\ttotal: 1.13s\tremaining: 12.8s\n",
      "90:\tlearn: 0.2801331\ttest: 0.2981982\tbest: 0.2981982 (90)\ttotal: 1.27s\tremaining: 12.7s\n",
      "100:\tlearn: 0.2780605\ttest: 0.2975168\tbest: 0.2975168 (100)\ttotal: 1.4s\tremaining: 12.4s\n",
      "110:\tlearn: 0.2758376\ttest: 0.2960843\tbest: 0.2960424 (109)\ttotal: 1.56s\tremaining: 12.5s\n",
      "120:\tlearn: 0.2728661\ttest: 0.2938865\tbest: 0.2938865 (120)\ttotal: 1.75s\tremaining: 12.7s\n",
      "130:\tlearn: 0.2712753\ttest: 0.2933673\tbest: 0.2933673 (130)\ttotal: 1.97s\tremaining: 13.1s\n",
      "140:\tlearn: 0.2697209\ttest: 0.2932151\tbest: 0.2930920 (138)\ttotal: 2.15s\tremaining: 13.1s\n",
      "150:\tlearn: 0.2682011\ttest: 0.2926641\tbest: 0.2926124 (146)\ttotal: 2.33s\tremaining: 13.1s\n",
      "160:\tlearn: 0.2666703\ttest: 0.2917154\tbest: 0.2917137 (159)\ttotal: 2.52s\tremaining: 13.1s\n",
      "170:\tlearn: 0.2650268\ttest: 0.2907958\tbest: 0.2907958 (170)\ttotal: 2.68s\tremaining: 13s\n",
      "180:\tlearn: 0.2637282\ttest: 0.2902318\tbest: 0.2902318 (180)\ttotal: 2.82s\tremaining: 12.8s\n",
      "190:\tlearn: 0.2625635\ttest: 0.2901065\tbest: 0.2899885 (184)\ttotal: 2.96s\tremaining: 12.5s\n",
      "200:\tlearn: 0.2614736\ttest: 0.2900925\tbest: 0.2898851 (193)\ttotal: 3.11s\tremaining: 12.4s\n",
      "210:\tlearn: 0.2603138\ttest: 0.2897304\tbest: 0.2897172 (208)\ttotal: 3.24s\tremaining: 12.1s\n",
      "220:\tlearn: 0.2593149\ttest: 0.2895062\tbest: 0.2894176 (218)\ttotal: 3.37s\tremaining: 11.9s\n",
      "230:\tlearn: 0.2578482\ttest: 0.2894896\tbest: 0.2894176 (218)\ttotal: 3.5s\tremaining: 11.6s\n",
      "240:\tlearn: 0.2566074\ttest: 0.2889848\tbest: 0.2889078 (238)\ttotal: 3.65s\tremaining: 11.5s\n",
      "250:\tlearn: 0.2554485\ttest: 0.2887892\tbest: 0.2887892 (250)\ttotal: 3.78s\tremaining: 11.3s\n",
      "260:\tlearn: 0.2542934\ttest: 0.2885404\tbest: 0.2884798 (257)\ttotal: 3.93s\tremaining: 11.1s\n",
      "270:\tlearn: 0.2533970\ttest: 0.2882069\tbest: 0.2882069 (270)\ttotal: 4.08s\tremaining: 11s\n",
      "280:\tlearn: 0.2525586\ttest: 0.2880427\tbest: 0.2879691 (277)\ttotal: 4.24s\tremaining: 10.9s\n",
      "290:\tlearn: 0.2516829\ttest: 0.2882153\tbest: 0.2879691 (277)\ttotal: 4.39s\tremaining: 10.7s\n",
      "300:\tlearn: 0.2508734\ttest: 0.2882472\tbest: 0.2879691 (277)\ttotal: 4.56s\tremaining: 10.6s\n",
      "310:\tlearn: 0.2499971\ttest: 0.2881251\tbest: 0.2878601 (306)\ttotal: 4.76s\tremaining: 10.5s\n",
      "320:\tlearn: 0.2493302\ttest: 0.2880324\tbest: 0.2878601 (306)\ttotal: 5.05s\tremaining: 10.7s\n",
      "330:\tlearn: 0.2485435\ttest: 0.2876213\tbest: 0.2876213 (330)\ttotal: 5.44s\tremaining: 11s\n",
      "340:\tlearn: 0.2476545\ttest: 0.2879175\tbest: 0.2876213 (330)\ttotal: 5.75s\tremaining: 11.1s\n",
      "350:\tlearn: 0.2469371\ttest: 0.2882784\tbest: 0.2876213 (330)\ttotal: 5.98s\tremaining: 11.1s\n",
      "360:\tlearn: 0.2462206\ttest: 0.2884087\tbest: 0.2876213 (330)\ttotal: 6.21s\tremaining: 11s\n",
      "370:\tlearn: 0.2456598\ttest: 0.2882285\tbest: 0.2876213 (330)\ttotal: 6.41s\tremaining: 10.9s\n",
      "380:\tlearn: 0.2448979\ttest: 0.2880057\tbest: 0.2876213 (330)\ttotal: 6.63s\tremaining: 10.8s\n",
      "390:\tlearn: 0.2443414\ttest: 0.2879844\tbest: 0.2876213 (330)\ttotal: 6.78s\tremaining: 10.6s\n",
      "400:\tlearn: 0.2439072\ttest: 0.2882353\tbest: 0.2876213 (330)\ttotal: 6.99s\tremaining: 10.4s\n",
      "410:\tlearn: 0.2431257\ttest: 0.2884613\tbest: 0.2876213 (330)\ttotal: 7.18s\tremaining: 10.3s\n",
      "420:\tlearn: 0.2426064\ttest: 0.2883987\tbest: 0.2876213 (330)\ttotal: 7.39s\tremaining: 10.2s\n",
      "430:\tlearn: 0.2421047\ttest: 0.2880862\tbest: 0.2876213 (330)\ttotal: 7.54s\tremaining: 9.96s\n",
      "440:\tlearn: 0.2416015\ttest: 0.2880380\tbest: 0.2876213 (330)\ttotal: 7.74s\tremaining: 9.81s\n",
      "450:\tlearn: 0.2410361\ttest: 0.2878688\tbest: 0.2876213 (330)\ttotal: 7.92s\tremaining: 9.64s\n",
      "460:\tlearn: 0.2404784\ttest: 0.2879423\tbest: 0.2876213 (330)\ttotal: 8.13s\tremaining: 9.5s\n",
      "470:\tlearn: 0.2399302\ttest: 0.2881364\tbest: 0.2876213 (330)\ttotal: 8.3s\tremaining: 9.32s\n",
      "480:\tlearn: 0.2393104\ttest: 0.2880654\tbest: 0.2876213 (330)\ttotal: 8.45s\tremaining: 9.12s\n",
      "490:\tlearn: 0.2388111\ttest: 0.2881996\tbest: 0.2876213 (330)\ttotal: 8.58s\tremaining: 8.9s\n",
      "500:\tlearn: 0.2380129\ttest: 0.2882412\tbest: 0.2876213 (330)\ttotal: 8.74s\tremaining: 8.7s\n",
      "510:\tlearn: 0.2375176\ttest: 0.2882185\tbest: 0.2876213 (330)\ttotal: 8.87s\tremaining: 8.49s\n",
      "520:\tlearn: 0.2370755\ttest: 0.2882933\tbest: 0.2876213 (330)\ttotal: 9.02s\tremaining: 8.29s\n",
      "530:\tlearn: 0.2363573\ttest: 0.2886428\tbest: 0.2876213 (330)\ttotal: 9.16s\tremaining: 8.09s\n",
      "540:\tlearn: 0.2358395\ttest: 0.2885568\tbest: 0.2876213 (330)\ttotal: 9.31s\tremaining: 7.9s\n",
      "550:\tlearn: 0.2352621\ttest: 0.2884415\tbest: 0.2876213 (330)\ttotal: 9.44s\tremaining: 7.7s\n",
      "560:\tlearn: 0.2347096\ttest: 0.2886105\tbest: 0.2876213 (330)\ttotal: 9.61s\tremaining: 7.52s\n",
      "570:\tlearn: 0.2342060\ttest: 0.2887586\tbest: 0.2876213 (330)\ttotal: 9.81s\tremaining: 7.37s\n",
      "580:\tlearn: 0.2336248\ttest: 0.2887939\tbest: 0.2876213 (330)\ttotal: 10s\tremaining: 7.22s\n",
      "590:\tlearn: 0.2330913\ttest: 0.2887058\tbest: 0.2876213 (330)\ttotal: 10.2s\tremaining: 7.05s\n",
      "600:\tlearn: 0.2325644\ttest: 0.2887020\tbest: 0.2876213 (330)\ttotal: 10.4s\tremaining: 6.89s\n",
      "610:\tlearn: 0.2320528\ttest: 0.2888580\tbest: 0.2876213 (330)\ttotal: 10.6s\tremaining: 6.72s\n",
      "620:\tlearn: 0.2314750\ttest: 0.2889194\tbest: 0.2876213 (330)\ttotal: 10.7s\tremaining: 6.54s\n",
      "630:\tlearn: 0.2309308\ttest: 0.2888078\tbest: 0.2876213 (330)\ttotal: 10.8s\tremaining: 6.34s\n"
     ]
    },
    {
     "name": "stdout",
     "output_type": "stream",
     "text": [
      "640:\tlearn: 0.2306512\ttest: 0.2888453\tbest: 0.2876213 (330)\ttotal: 11s\tremaining: 6.15s\n",
      "650:\tlearn: 0.2300388\ttest: 0.2889815\tbest: 0.2876213 (330)\ttotal: 11.1s\tremaining: 5.96s\n",
      "660:\tlearn: 0.2294021\ttest: 0.2892621\tbest: 0.2876213 (330)\ttotal: 11.3s\tremaining: 5.77s\n",
      "670:\tlearn: 0.2290046\ttest: 0.2892941\tbest: 0.2876213 (330)\ttotal: 11.4s\tremaining: 5.58s\n",
      "680:\tlearn: 0.2286737\ttest: 0.2892974\tbest: 0.2876213 (330)\ttotal: 11.5s\tremaining: 5.4s\n",
      "690:\tlearn: 0.2282417\ttest: 0.2893581\tbest: 0.2876213 (330)\ttotal: 11.7s\tremaining: 5.21s\n",
      "700:\tlearn: 0.2278981\ttest: 0.2893590\tbest: 0.2876213 (330)\ttotal: 11.8s\tremaining: 5.04s\n",
      "710:\tlearn: 0.2273621\ttest: 0.2897387\tbest: 0.2876213 (330)\ttotal: 11.9s\tremaining: 4.85s\n",
      "720:\tlearn: 0.2269390\ttest: 0.2900195\tbest: 0.2876213 (330)\ttotal: 12.1s\tremaining: 4.67s\n",
      "730:\tlearn: 0.2264366\ttest: 0.2901301\tbest: 0.2876213 (330)\ttotal: 12.2s\tremaining: 4.49s\n",
      "740:\tlearn: 0.2260697\ttest: 0.2902857\tbest: 0.2876213 (330)\ttotal: 12.4s\tremaining: 4.32s\n",
      "750:\tlearn: 0.2257591\ttest: 0.2903242\tbest: 0.2876213 (330)\ttotal: 12.5s\tremaining: 4.14s\n",
      "760:\tlearn: 0.2254073\ttest: 0.2904510\tbest: 0.2876213 (330)\ttotal: 12.7s\tremaining: 3.97s\n",
      "770:\tlearn: 0.2250914\ttest: 0.2904457\tbest: 0.2876213 (330)\ttotal: 12.9s\tremaining: 3.82s\n",
      "780:\tlearn: 0.2246876\ttest: 0.2904364\tbest: 0.2876213 (330)\ttotal: 13.1s\tremaining: 3.66s\n",
      "790:\tlearn: 0.2240759\ttest: 0.2905245\tbest: 0.2876213 (330)\ttotal: 13.2s\tremaining: 3.5s\n",
      "800:\tlearn: 0.2237711\ttest: 0.2905846\tbest: 0.2876213 (330)\ttotal: 13.4s\tremaining: 3.33s\n",
      "810:\tlearn: 0.2232545\ttest: 0.2906966\tbest: 0.2876213 (330)\ttotal: 13.6s\tremaining: 3.16s\n",
      "820:\tlearn: 0.2228558\ttest: 0.2907947\tbest: 0.2876213 (330)\ttotal: 13.7s\tremaining: 2.99s\n",
      "830:\tlearn: 0.2226138\ttest: 0.2908483\tbest: 0.2876213 (330)\ttotal: 13.9s\tremaining: 2.82s\n",
      "840:\tlearn: 0.2223217\ttest: 0.2910855\tbest: 0.2876213 (330)\ttotal: 14s\tremaining: 2.65s\n",
      "850:\tlearn: 0.2219621\ttest: 0.2911575\tbest: 0.2876213 (330)\ttotal: 14.1s\tremaining: 2.48s\n",
      "860:\tlearn: 0.2213729\ttest: 0.2917741\tbest: 0.2876213 (330)\ttotal: 14.3s\tremaining: 2.3s\n",
      "870:\tlearn: 0.2209783\ttest: 0.2920873\tbest: 0.2876213 (330)\ttotal: 14.4s\tremaining: 2.13s\n",
      "880:\tlearn: 0.2205286\ttest: 0.2920733\tbest: 0.2876213 (330)\ttotal: 14.5s\tremaining: 1.97s\n",
      "890:\tlearn: 0.2201624\ttest: 0.2921427\tbest: 0.2876213 (330)\ttotal: 14.7s\tremaining: 1.79s\n",
      "900:\tlearn: 0.2196964\ttest: 0.2921736\tbest: 0.2876213 (330)\ttotal: 14.8s\tremaining: 1.63s\n",
      "910:\tlearn: 0.2192035\ttest: 0.2922843\tbest: 0.2876213 (330)\ttotal: 15s\tremaining: 1.46s\n",
      "920:\tlearn: 0.2188208\ttest: 0.2922481\tbest: 0.2876213 (330)\ttotal: 15.1s\tremaining: 1.29s\n",
      "930:\tlearn: 0.2185445\ttest: 0.2922416\tbest: 0.2876213 (330)\ttotal: 15.2s\tremaining: 1.13s\n",
      "940:\tlearn: 0.2182219\ttest: 0.2924307\tbest: 0.2876213 (330)\ttotal: 15.4s\tremaining: 964ms\n",
      "950:\tlearn: 0.2177044\ttest: 0.2924453\tbest: 0.2876213 (330)\ttotal: 15.5s\tremaining: 799ms\n",
      "960:\tlearn: 0.2173559\ttest: 0.2926240\tbest: 0.2876213 (330)\ttotal: 15.7s\tremaining: 636ms\n",
      "970:\tlearn: 0.2168687\ttest: 0.2928029\tbest: 0.2876213 (330)\ttotal: 15.9s\tremaining: 474ms\n",
      "980:\tlearn: 0.2164916\ttest: 0.2929681\tbest: 0.2876213 (330)\ttotal: 16.1s\tremaining: 311ms\n",
      "990:\tlearn: 0.2160529\ttest: 0.2931915\tbest: 0.2876213 (330)\ttotal: 16.2s\tremaining: 148ms\n",
      "999:\tlearn: 0.2158158\ttest: 0.2933602\tbest: 0.2876213 (330)\ttotal: 16.4s\tremaining: 0us\n",
      "\n",
      "bestTest = 0.2876212687\n",
      "bestIteration = 330\n",
      "\n",
      "Shrink model to first 331 iterations.\n",
      "\n",
      "5 of fold 5\n",
      "Learning rate set to 0.108148\n",
      "0:\tlearn: 0.5900112\ttest: 0.5904549\tbest: 0.5904549 (0)\ttotal: 13.4ms\tremaining: 13.4s\n",
      "10:\tlearn: 0.3437109\ttest: 0.3473323\tbest: 0.3473323 (10)\ttotal: 154ms\tremaining: 13.9s\n",
      "20:\tlearn: 0.3180482\ttest: 0.3229055\tbest: 0.3229055 (20)\ttotal: 302ms\tremaining: 14.1s\n",
      "30:\tlearn: 0.3066381\ttest: 0.3130668\tbest: 0.3130668 (30)\ttotal: 475ms\tremaining: 14.8s\n",
      "40:\tlearn: 0.3000168\ttest: 0.3073817\tbest: 0.3073817 (40)\ttotal: 607ms\tremaining: 14.2s\n",
      "50:\tlearn: 0.2948376\ttest: 0.3033024\tbest: 0.3033024 (50)\ttotal: 744ms\tremaining: 13.8s\n",
      "60:\tlearn: 0.2906571\ttest: 0.2994646\tbest: 0.2994646 (60)\ttotal: 875ms\tremaining: 13.5s\n",
      "70:\tlearn: 0.2861102\ttest: 0.2956879\tbest: 0.2956879 (70)\ttotal: 1.02s\tremaining: 13.4s\n",
      "80:\tlearn: 0.2833484\ttest: 0.2941746\tbest: 0.2941746 (80)\ttotal: 1.16s\tremaining: 13.1s\n",
      "90:\tlearn: 0.2801019\ttest: 0.2921364\tbest: 0.2921265 (89)\ttotal: 1.31s\tremaining: 13.1s\n",
      "100:\tlearn: 0.2777982\ttest: 0.2910046\tbest: 0.2910046 (100)\ttotal: 1.44s\tremaining: 12.8s\n",
      "110:\tlearn: 0.2755409\ttest: 0.2898292\tbest: 0.2898292 (110)\ttotal: 1.59s\tremaining: 12.7s\n",
      "120:\tlearn: 0.2738377\ttest: 0.2885855\tbest: 0.2885855 (120)\ttotal: 1.72s\tremaining: 12.5s\n",
      "130:\tlearn: 0.2712227\ttest: 0.2872464\tbest: 0.2872464 (130)\ttotal: 1.86s\tremaining: 12.4s\n",
      "140:\tlearn: 0.2693344\ttest: 0.2867944\tbest: 0.2866491 (133)\ttotal: 2.01s\tremaining: 12.2s\n",
      "150:\tlearn: 0.2677390\ttest: 0.2866348\tbest: 0.2865257 (147)\ttotal: 2.23s\tremaining: 12.6s\n",
      "160:\tlearn: 0.2660169\ttest: 0.2860150\tbest: 0.2859540 (159)\ttotal: 2.46s\tremaining: 12.8s\n",
      "170:\tlearn: 0.2643747\ttest: 0.2855139\tbest: 0.2855139 (170)\ttotal: 2.63s\tremaining: 12.7s\n",
      "180:\tlearn: 0.2628919\ttest: 0.2851672\tbest: 0.2851336 (176)\ttotal: 2.8s\tremaining: 12.7s\n",
      "190:\tlearn: 0.2617230\ttest: 0.2847898\tbest: 0.2847898 (190)\ttotal: 2.98s\tremaining: 12.6s\n",
      "200:\tlearn: 0.2606859\ttest: 0.2850834\tbest: 0.2847898 (190)\ttotal: 3.12s\tremaining: 12.4s\n",
      "210:\tlearn: 0.2593035\ttest: 0.2850285\tbest: 0.2847898 (190)\ttotal: 3.28s\tremaining: 12.3s\n",
      "220:\tlearn: 0.2585359\ttest: 0.2849463\tbest: 0.2847898 (190)\ttotal: 3.41s\tremaining: 12s\n",
      "230:\tlearn: 0.2573351\ttest: 0.2845992\tbest: 0.2845992 (230)\ttotal: 3.55s\tremaining: 11.8s\n",
      "240:\tlearn: 0.2564032\ttest: 0.2848106\tbest: 0.2844299 (233)\ttotal: 3.68s\tremaining: 11.6s\n",
      "250:\tlearn: 0.2554125\ttest: 0.2848100\tbest: 0.2844299 (233)\ttotal: 3.83s\tremaining: 11.4s\n",
      "260:\tlearn: 0.2545859\ttest: 0.2849177\tbest: 0.2844299 (233)\ttotal: 3.96s\tremaining: 11.2s\n",
      "270:\tlearn: 0.2536719\ttest: 0.2846258\tbest: 0.2844299 (233)\ttotal: 4.11s\tremaining: 11s\n",
      "280:\tlearn: 0.2527403\ttest: 0.2849046\tbest: 0.2844299 (233)\ttotal: 4.24s\tremaining: 10.8s\n",
      "290:\tlearn: 0.2520081\ttest: 0.2848877\tbest: 0.2844299 (233)\ttotal: 4.39s\tremaining: 10.7s\n",
      "300:\tlearn: 0.2514045\ttest: 0.2849761\tbest: 0.2844299 (233)\ttotal: 4.53s\tremaining: 10.5s\n",
      "310:\tlearn: 0.2507252\ttest: 0.2849846\tbest: 0.2844299 (233)\ttotal: 4.67s\tremaining: 10.4s\n",
      "320:\tlearn: 0.2498253\ttest: 0.2849460\tbest: 0.2844299 (233)\ttotal: 4.81s\tremaining: 10.2s\n",
      "330:\tlearn: 0.2491165\ttest: 0.2848212\tbest: 0.2844299 (233)\ttotal: 4.96s\tremaining: 10s\n",
      "340:\tlearn: 0.2484258\ttest: 0.2847466\tbest: 0.2844299 (233)\ttotal: 5.14s\tremaining: 9.93s\n",
      "350:\tlearn: 0.2477432\ttest: 0.2846047\tbest: 0.2844299 (233)\ttotal: 5.36s\tremaining: 9.91s\n",
      "360:\tlearn: 0.2469321\ttest: 0.2846449\tbest: 0.2844299 (233)\ttotal: 5.53s\tremaining: 9.78s\n",
      "370:\tlearn: 0.2461213\ttest: 0.2848323\tbest: 0.2844299 (233)\ttotal: 5.72s\tremaining: 9.7s\n",
      "380:\tlearn: 0.2451700\ttest: 0.2848632\tbest: 0.2844299 (233)\ttotal: 5.9s\tremaining: 9.59s\n",
      "390:\tlearn: 0.2445093\ttest: 0.2849352\tbest: 0.2844299 (233)\ttotal: 6.06s\tremaining: 9.44s\n",
      "400:\tlearn: 0.2437242\ttest: 0.2850740\tbest: 0.2844299 (233)\ttotal: 6.19s\tremaining: 9.25s\n",
      "410:\tlearn: 0.2430338\ttest: 0.2851437\tbest: 0.2844299 (233)\ttotal: 6.35s\tremaining: 9.09s\n",
      "420:\tlearn: 0.2423001\ttest: 0.2849983\tbest: 0.2844299 (233)\ttotal: 6.5s\tremaining: 8.93s\n",
      "430:\tlearn: 0.2417008\ttest: 0.2852411\tbest: 0.2844299 (233)\ttotal: 6.64s\tremaining: 8.77s\n",
      "440:\tlearn: 0.2411082\ttest: 0.2853243\tbest: 0.2844299 (233)\ttotal: 6.77s\tremaining: 8.58s\n",
      "450:\tlearn: 0.2405334\ttest: 0.2854701\tbest: 0.2844299 (233)\ttotal: 6.91s\tremaining: 8.42s\n",
      "460:\tlearn: 0.2399641\ttest: 0.2854811\tbest: 0.2844299 (233)\ttotal: 7.05s\tremaining: 8.24s\n",
      "470:\tlearn: 0.2393545\ttest: 0.2855442\tbest: 0.2844299 (233)\ttotal: 7.19s\tremaining: 8.08s\n",
      "480:\tlearn: 0.2387653\ttest: 0.2856640\tbest: 0.2844299 (233)\ttotal: 7.33s\tremaining: 7.91s\n",
      "490:\tlearn: 0.2381784\ttest: 0.2857896\tbest: 0.2844299 (233)\ttotal: 7.49s\tremaining: 7.76s\n",
      "500:\tlearn: 0.2376491\ttest: 0.2861522\tbest: 0.2844299 (233)\ttotal: 7.62s\tremaining: 7.59s\n",
      "510:\tlearn: 0.2370129\ttest: 0.2864661\tbest: 0.2844299 (233)\ttotal: 7.76s\tremaining: 7.43s\n",
      "520:\tlearn: 0.2364068\ttest: 0.2866234\tbest: 0.2844299 (233)\ttotal: 7.9s\tremaining: 7.26s\n",
      "530:\tlearn: 0.2359308\ttest: 0.2867175\tbest: 0.2844299 (233)\ttotal: 8.07s\tremaining: 7.12s\n",
      "540:\tlearn: 0.2353891\ttest: 0.2868625\tbest: 0.2844299 (233)\ttotal: 8.26s\tremaining: 7.01s\n"
     ]
    },
    {
     "name": "stdout",
     "output_type": "stream",
     "text": [
      "550:\tlearn: 0.2349332\ttest: 0.2870070\tbest: 0.2844299 (233)\ttotal: 8.47s\tremaining: 6.9s\n",
      "560:\tlearn: 0.2343483\ttest: 0.2871490\tbest: 0.2844299 (233)\ttotal: 8.64s\tremaining: 6.76s\n",
      "570:\tlearn: 0.2337966\ttest: 0.2872912\tbest: 0.2844299 (233)\ttotal: 8.83s\tremaining: 6.63s\n",
      "580:\tlearn: 0.2334199\ttest: 0.2873518\tbest: 0.2844299 (233)\ttotal: 8.99s\tremaining: 6.48s\n",
      "590:\tlearn: 0.2330263\ttest: 0.2873916\tbest: 0.2844299 (233)\ttotal: 9.13s\tremaining: 6.32s\n",
      "600:\tlearn: 0.2324704\ttest: 0.2874562\tbest: 0.2844299 (233)\ttotal: 9.27s\tremaining: 6.15s\n",
      "610:\tlearn: 0.2320396\ttest: 0.2875960\tbest: 0.2844299 (233)\ttotal: 9.41s\tremaining: 5.99s\n",
      "620:\tlearn: 0.2317650\ttest: 0.2877574\tbest: 0.2844299 (233)\ttotal: 9.54s\tremaining: 5.82s\n",
      "630:\tlearn: 0.2313393\ttest: 0.2878708\tbest: 0.2844299 (233)\ttotal: 9.69s\tremaining: 5.67s\n",
      "640:\tlearn: 0.2309314\ttest: 0.2880074\tbest: 0.2844299 (233)\ttotal: 9.83s\tremaining: 5.51s\n",
      "650:\tlearn: 0.2304831\ttest: 0.2880277\tbest: 0.2844299 (233)\ttotal: 9.99s\tremaining: 5.35s\n",
      "660:\tlearn: 0.2298803\ttest: 0.2882486\tbest: 0.2844299 (233)\ttotal: 10.2s\tremaining: 5.21s\n",
      "670:\tlearn: 0.2294758\ttest: 0.2881612\tbest: 0.2844299 (233)\ttotal: 10.3s\tremaining: 5.06s\n",
      "680:\tlearn: 0.2289863\ttest: 0.2884944\tbest: 0.2844299 (233)\ttotal: 10.5s\tremaining: 4.9s\n",
      "690:\tlearn: 0.2286177\ttest: 0.2885151\tbest: 0.2844299 (233)\ttotal: 10.6s\tremaining: 4.75s\n",
      "700:\tlearn: 0.2281860\ttest: 0.2887900\tbest: 0.2844299 (233)\ttotal: 10.8s\tremaining: 4.59s\n",
      "710:\tlearn: 0.2278825\ttest: 0.2888660\tbest: 0.2844299 (233)\ttotal: 10.9s\tremaining: 4.44s\n",
      "720:\tlearn: 0.2273841\ttest: 0.2890383\tbest: 0.2844299 (233)\ttotal: 11.1s\tremaining: 4.3s\n",
      "730:\tlearn: 0.2269272\ttest: 0.2890882\tbest: 0.2844299 (233)\ttotal: 11.3s\tremaining: 4.17s\n",
      "740:\tlearn: 0.2264672\ttest: 0.2893447\tbest: 0.2844299 (233)\ttotal: 11.5s\tremaining: 4.03s\n",
      "750:\tlearn: 0.2259595\ttest: 0.2892660\tbest: 0.2844299 (233)\ttotal: 11.9s\tremaining: 3.95s\n",
      "760:\tlearn: 0.2255142\ttest: 0.2894112\tbest: 0.2844299 (233)\ttotal: 12.2s\tremaining: 3.84s\n",
      "770:\tlearn: 0.2251988\ttest: 0.2894124\tbest: 0.2844299 (233)\ttotal: 12.5s\tremaining: 3.71s\n",
      "780:\tlearn: 0.2247048\ttest: 0.2895613\tbest: 0.2844299 (233)\ttotal: 12.7s\tremaining: 3.57s\n",
      "790:\tlearn: 0.2243210\ttest: 0.2895557\tbest: 0.2844299 (233)\ttotal: 12.9s\tremaining: 3.42s\n",
      "800:\tlearn: 0.2239483\ttest: 0.2897506\tbest: 0.2844299 (233)\ttotal: 13.2s\tremaining: 3.27s\n",
      "810:\tlearn: 0.2235914\ttest: 0.2897164\tbest: 0.2844299 (233)\ttotal: 13.4s\tremaining: 3.13s\n",
      "820:\tlearn: 0.2232499\ttest: 0.2897280\tbest: 0.2844299 (233)\ttotal: 13.6s\tremaining: 2.97s\n",
      "830:\tlearn: 0.2229101\ttest: 0.2897522\tbest: 0.2844299 (233)\ttotal: 13.9s\tremaining: 2.82s\n",
      "840:\tlearn: 0.2225186\ttest: 0.2898697\tbest: 0.2844299 (233)\ttotal: 14s\tremaining: 2.65s\n",
      "850:\tlearn: 0.2220106\ttest: 0.2901709\tbest: 0.2844299 (233)\ttotal: 14.2s\tremaining: 2.49s\n",
      "860:\tlearn: 0.2215854\ttest: 0.2903837\tbest: 0.2844299 (233)\ttotal: 14.4s\tremaining: 2.33s\n",
      "870:\tlearn: 0.2212683\ttest: 0.2904645\tbest: 0.2844299 (233)\ttotal: 14.6s\tremaining: 2.17s\n",
      "880:\tlearn: 0.2209376\ttest: 0.2907565\tbest: 0.2844299 (233)\ttotal: 14.8s\tremaining: 2s\n",
      "890:\tlearn: 0.2205462\ttest: 0.2909905\tbest: 0.2844299 (233)\ttotal: 15s\tremaining: 1.83s\n",
      "900:\tlearn: 0.2201965\ttest: 0.2911654\tbest: 0.2844299 (233)\ttotal: 15.2s\tremaining: 1.66s\n",
      "910:\tlearn: 0.2198783\ttest: 0.2912011\tbest: 0.2844299 (233)\ttotal: 15.3s\tremaining: 1.5s\n",
      "920:\tlearn: 0.2192756\ttest: 0.2914676\tbest: 0.2844299 (233)\ttotal: 15.6s\tremaining: 1.34s\n",
      "930:\tlearn: 0.2188656\ttest: 0.2916838\tbest: 0.2844299 (233)\ttotal: 15.7s\tremaining: 1.17s\n",
      "940:\tlearn: 0.2185512\ttest: 0.2918459\tbest: 0.2844299 (233)\ttotal: 15.9s\tremaining: 997ms\n",
      "950:\tlearn: 0.2182380\ttest: 0.2920018\tbest: 0.2844299 (233)\ttotal: 16.1s\tremaining: 829ms\n",
      "960:\tlearn: 0.2179399\ttest: 0.2918629\tbest: 0.2844299 (233)\ttotal: 16.3s\tremaining: 662ms\n",
      "970:\tlearn: 0.2175840\ttest: 0.2922605\tbest: 0.2844299 (233)\ttotal: 16.5s\tremaining: 492ms\n",
      "980:\tlearn: 0.2170769\ttest: 0.2920282\tbest: 0.2844299 (233)\ttotal: 16.6s\tremaining: 322ms\n",
      "990:\tlearn: 0.2165988\ttest: 0.2921709\tbest: 0.2844299 (233)\ttotal: 16.8s\tremaining: 153ms\n",
      "999:\tlearn: 0.2163524\ttest: 0.2923040\tbest: 0.2844299 (233)\ttotal: 16.9s\tremaining: 0us\n",
      "\n",
      "bestTest = 0.2844298867\n",
      "bestIteration = 233\n",
      "\n",
      "Shrink model to first 234 iterations.\n"
     ]
    }
   ],
   "source": [
    "cat_preds = []\n",
    "i = 1\n",
    "skf = StratifiedKFold(n_splits=5, shuffle=True, random_state=42)\n",
    "skf.get_n_splits(X.index, y)\n",
    "\n",
    "for train_index, test_index in skf.split(X.index, y):\n",
    "    print(f'\\n{i} of fold {skf.n_splits}')\n",
    "    xtr, xvl = X[X.index.isin(train_index)], X[X.index.isin(test_index)]\n",
    "    ytr, yvl = y[y.index.isin(train_index)], y[y.index.isin(test_index)]\n",
    "    \n",
    "    cat_model = CatBoostClassifier(random_state=42)\n",
    "    \n",
    "    cat_model.fit(xtr, ytr, eval_set=(xvl, yvl), verbose=10)\n",
    "    pred = cat_model.predict_proba(xvl)[:, 1]\n",
    "    cat_preds.append(roc_auc_score(yvl, pred))\n",
    "    i += 1"
   ]
  },
  {
   "cell_type": "code",
   "execution_count": 29,
   "metadata": {
    "ExecuteTime": {
     "end_time": "2021-03-02T21:17:06.985924Z",
     "start_time": "2021-03-02T21:17:06.977929Z"
    }
   },
   "outputs": [
    {
     "data": {
      "text/plain": [
       "0.9276168925630308"
      ]
     },
     "execution_count": 29,
     "metadata": {},
     "output_type": "execute_result"
    }
   ],
   "source": [
    "cat_score = np.array(cat_preds).mean(axis=0)\n",
    "cat_score"
   ]
  },
  {
   "cell_type": "markdown",
   "metadata": {},
   "source": [
    "### DecisionTreeClassifier"
   ]
  },
  {
   "cell_type": "markdown",
   "metadata": {},
   "source": [
    "Точность алгоритмов по метрике AUC:\n",
    "<ul>\n",
    "    <li>RandomForest: 91.4%</li>\n",
    "    <li>LogisticRegression: 90.0%</li>\n",
    "    <li>GaussianNB: 88.7%</li>\n",
    "    <li>CatBoostClassifier: 92.7%</li>\n",
    "    <li>DecisionTreeClassifier</li>\n",
    "</ul>"
   ]
  }
 ],
 "metadata": {
  "kernelspec": {
   "display_name": "Python 3.7.3 64-bit ('base': conda)",
   "language": "python",
   "name": "python37364bitbaseconda831045ee32c94c84964ff7ce40490e5e"
  },
  "language_info": {
   "codemirror_mode": {
    "name": "ipython",
    "version": 3
   },
   "file_extension": ".py",
   "mimetype": "text/x-python",
   "name": "python",
   "nbconvert_exporter": "python",
   "pygments_lexer": "ipython3",
   "version": "3.7.6"
  }
 },
 "nbformat": 4,
 "nbformat_minor": 4
}
